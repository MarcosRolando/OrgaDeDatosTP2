{
  "nbformat": 4,
  "nbformat_minor": 0,
  "metadata": {
    "colab": {
      "name": "KNN.ipynb",
      "provenance": []
    },
    "kernelspec": {
      "display_name": "Python 3",
      "name": "python3"
    }
  },
  "cells": [
    {
      "cell_type": "code",
      "metadata": {
        "id": "5YArL1Q-quMm"
      },
      "source": [
        "import pandas as pd\n",
        "import tensorflow as tf\n",
        "from sklearn import preprocessing\n",
        "from sklearn.neighbors import KNeighborsClassifier\n",
        "from sklearn.neighbors import RadiusNeighborsClassifier\n",
        "from sklearn import metrics\n",
        "from sklearn.model_selection import train_test_split\n",
        "from sklearn.preprocessing import StandardScaler"
      ],
      "execution_count": 1,
      "outputs": []
    },
    {
      "cell_type": "code",
      "metadata": {
        "id": "Uk1gLEAAkjfG"
      },
      "source": [
        "def preprocess_dataframe(df):\r\n",
        "\r\n",
        "  df.fillna(value=0, inplace=True) #Reemplazamos NAN por 0, ya que NAN rompe a Tensorflow\r\n",
        "\r\n",
        "  #Renombramos las columnas que tienen caracteres que TensorFlow no acepta como validos.\r\n",
        "  #Estos particularmente son whitespace, coma y parentesis por ejemplo.\r\n",
        "  df.rename(columns={'ASP_(converted)':'ASP_converted','Pricing, Delivery_Terms_Quote_Appr':\r\n",
        "                    'Pricing_Delivery_Terms_Quote_Appr','Pricing, Delivery_Terms_Approved':\r\n",
        "                    'Pricing_Delivery_Terms_Approved','Source ':'Source'},inplace=True)\r\n",
        "\r\n",
        "  df = df[df['Stage'].isin(['Closed Won', 'Closed Lost'])]\r\n",
        "  df.loc[:, 'Stage'].replace({'Closed Won':1, 'Closed Lost':0}, inplace=True) #0 corresponde a que el caso fue Closed Lost, 1 a que fue Closed Won. Asi tenemos un problema de clasificacion binario que puede entender la red neuronal.\r\n",
        "\r\n",
        "  df.loc[:, 'Planned_Delivery_Start_Date'] = pd.to_datetime(df['Planned_Delivery_Start_Date'], 'coerce',\r\n",
        "                                                                  format='%m/%d/%Y')\r\n",
        "  df.loc[:, 'Planned_Delivery_End_Date'] = pd.to_datetime(df['Planned_Delivery_End_Date'], 'coerce',\r\n",
        "                                                                                      format='%m/%d/%Y')\r\n",
        "  df = df[df['Opportunity_ID'] != 9773] #Hardcodeo este filtrado porque el id 9773 tiene mal cargada la fecha de delviery end, dando una diferencia de 200 anios xd\"\r\n",
        "\r\n",
        "  #Pongo .loc porque pandas me jode con warnings que son falsos positivos de slice copy\"\r\n",
        "  #Gracias Pandas!\"\r\n",
        "\r\n",
        "  #Creamos una nueva columna (Feature Engineering) que contiene la longitud en dias \r\n",
        "  #estimada de la operacion. En el informe habiamos encontrado que aparentaba haber\r\n",
        "  #una relacion cuadratica de decrecimiento a medida que aumentaban los dias donde disminuia\r\n",
        "  #la chance de completar la operacion.\r\n",
        "  df['Delta_Time'] = df['Planned_Delivery_End_Date'] - df['Planned_Delivery_Start_Date']\r\n",
        "  df.loc[:, 'Delta_Time'] = df['Delta_Time'].dt.days\r\n",
        "  df['Delta_Time'] = df.groupby('Opportunity_ID')['Delta_Time'].transform('max')\r\n",
        "\r\n",
        "  #Pasamos todo a dolares\r\n",
        "  currency_conversion = {'AUD':0.707612, 'EUR':1.131064, 'GBP':1.318055, 'JPY':0.008987, 'USD':1.0}\r\n",
        "  df['Total_Taxable_Amount_Currency'] = df[['Total_Taxable_Amount_Currency']].replace(currency_conversion)\r\n",
        "  df['Total_Taxable_Amount'] = df['Total_Taxable_Amount_Currency'] * df['Total_Taxable_Amount']\r\n",
        "\r\n",
        "  #Modifico la columna Brand para que en vez de decir que marca es, solo diga\r\n",
        "  #si tiene o no marca\r\n",
        "  df.loc[df['Brand'] == 'None', 'Brand'] = 0\r\n",
        "  df.loc[df['Brand'] != 0, 'Brand'] = 1\r\n",
        "\r\n",
        "  #Agrego una columna que indica si tiene o no numero de contrato\r\n",
        "  df.loc[:, 'Sales_Contract_No'][df['Sales_Contract_No'] != 'None'] = 1\r\n",
        "  df.loc[:, 'Sales_Contract_No'][df['Sales_Contract_No'] == 'None'] = 0\r\n",
        "  df.rename(columns={'Sales_Contract_No':'Has_Contract_Number'}, inplace=True)\r\n",
        "\r\n",
        "  #Agrego una columna que indique la cantidad de productos que tiene esa\r\n",
        "  #oportunidad\r\n",
        "  df['Product_Name'] = 1\r\n",
        "  df['Product_Amount'] = df.groupby('Opportunity_ID')['Product_Name'].transform(lambda x: x.sum())\r\n",
        "\r\n",
        "  #Agrego una columna que indica si el owner de la cuenta es el mismo que el de la oportunidad\r\n",
        "  #o no\r\n",
        "  df['Same_Owner'] = (df['Account_Owner'] == df['Opportunity_Owner'])\r\n",
        "  df['Same_Owner'] = df['Same_Owner'].replace({False:0, True:1})\r\n",
        "\r\n",
        "\r\n",
        "  #Cambio TRF por una columna que es la suma de los TRF de la oportunidad\r\n",
        "  df[\"TRF\"] = df.groupby(\"Opportunity_ID\")[\"TRF\"].transform(\"mean\")\r\n",
        "\r\n",
        "\r\n",
        "  #Pruebo volar duplicados, solo cambia el producto. Si el producto no importa\r\n",
        "  #entonces volar duplicados no deberia importar. Obviamente vuelo el producto en el que\r\n",
        "  #quede tambien.\r\n",
        "  df.drop_duplicates('Opportunity_ID',inplace=True)\r\n",
        "  df.drop(columns=['Product_Name','Product_Family','Opportunity_Name'],inplace=True)\r\n",
        "\r\n",
        "\r\n",
        "  #Normalizo las columnas numericas\r\n",
        "  normalized_columns = ['ASP_converted','TRF','Total_Taxable_Amount', 'Product_Amount']\r\n",
        "  for column in normalized_columns:\r\n",
        "    df[column] = (df[column] - df[column].mean()) / df[column].std()\r\n",
        "\r\n",
        "  #Borro columnas que tengan el mismo dato en todas las entradas, o inconsecuentes como el ID / Opportunity_ID\r\n",
        "  #Algunas columnas borradas son porque pienso que no tienen incidencia, ir viendo.\r\n",
        "  #TODO: Analizar si el Sales_Contract_No no es que importe el numero en si, sino si tiene\r\n",
        "  #o no tiene numero de contrato. Por ahora no lo meto como input.\r\n",
        "  #TODO: Ver el mismo tema con la columna 'Price', la mayoria tiene None u Other\r\n",
        "  #y solo unos pocos tienen precio numerico. Quiza importe que tenga precio o no tenga,\r\n",
        "  #o si no tiene precio quiza importe si es None u Other. Por ahora no lo pongo\r\n",
        "  #como input.\r\n",
        "  df.drop(columns=['Submitted_for_Approval', 'Last_Activity', 'ASP_(converted)_Currency', \r\n",
        "                  'Prod_Category_A', 'ID', 'Opportunity_ID'],inplace=True)\r\n",
        "\r\n",
        "  #Drop columnas que quiza podamos usar pero por ahora no las uso\r\n",
        "  df.drop(columns=['Account_Created_Date','Opportunity_Created_Date',\r\n",
        "                  'Quote_Expiry_Date','Last_Modified_Date',\r\n",
        "                  'Planned_Delivery_Start_Date','Planned_Delivery_End_Date',\r\n",
        "                  'Month','Delivery_Quarter', 'Delivery_Year', 'Actual_Delivery_Date',\r\n",
        "                  'Price','ASP','ASP_Currency','Total_Amount_Currency',\r\n",
        "                  'Total_Amount','Total_Taxable_Amount_Currency','Currency',\r\n",
        "                   'Product_Category_B','Last_Modified_By', 'Account_Owner',\r\n",
        "                   'Opportunity_Owner','Account_Name','Product_Type','Size',\r\n",
        "                   'Territory', 'Billing_Country'],\r\n",
        "                   inplace=True)\r\n",
        "\r\n",
        "  #Definimos que tipo de feature es cada columna\r\n",
        "\r\n",
        "  #Debemos separar algunos de los registros para armar un set de test propio (no el de la catedra). De esta forma sabremos rapidamente\r\n",
        "  #si nuestro modelo esta dando resultados optimos o no sin necesidad de estar subiendo el TP a Kaggle constantemente.\r\n",
        "  #Sin embargo, no queremos usar tantos registros ya que estariamos disminuyendo el set de entrenamiento considerablemente.\r\n",
        "  #Podemos empezar reservando 2000 registros para el test de prueba y ver que onda. Pasariamos de tener 16 mil a 14 mil \r\n",
        "  #registros para el set de entrenamiento, no es una perdida importantisima creo en principio, asi que arrancamos con eso.\r\n",
        "\r\n",
        "  #Por otro lado, nuestro test de prueba deberia tener un 50 50 de Closed Won y Closed Lost, por lo que no podemos elegir asi nomas\r\n",
        "  #al azar.\r\n",
        "\r\n",
        "  return df"
      ],
      "execution_count": 2,
      "outputs": []
    },
    {
      "cell_type": "code",
      "metadata": {
        "id": "TrZfZ9HBq6Z-",
        "colab": {
          "base_uri": "https://localhost:8080/"
        },
        "outputId": "b2705a6e-2460-4edf-822f-5c7a45e58ce0"
      },
      "source": [
        "df = pd.read_csv(\"Train_TP2_Datos_2020-2C.csv\") \n",
        "df = preprocess_dataframe(df)\n",
        "#df.head(10)"
      ],
      "execution_count": 3,
      "outputs": [
        {
          "output_type": "stream",
          "text": [
            "/usr/local/lib/python3.6/dist-packages/pandas/core/series.py:4582: SettingWithCopyWarning: \n",
            "A value is trying to be set on a copy of a slice from a DataFrame\n",
            "\n",
            "See the caveats in the documentation: https://pandas.pydata.org/pandas-docs/stable/user_guide/indexing.html#returning-a-view-versus-a-copy\n",
            "  method=method,\n",
            "/usr/local/lib/python3.6/dist-packages/pandas/core/indexing.py:1743: SettingWithCopyWarning: \n",
            "A value is trying to be set on a copy of a slice from a DataFrame.\n",
            "Try using .loc[row_indexer,col_indexer] = value instead\n",
            "\n",
            "See the caveats in the documentation: https://pandas.pydata.org/pandas-docs/stable/user_guide/indexing.html#returning-a-view-versus-a-copy\n",
            "  isetter(ilocs[0], value)\n",
            "/usr/local/lib/python3.6/dist-packages/ipykernel_launcher.py:42: SettingWithCopyWarning: \n",
            "A value is trying to be set on a copy of a slice from a DataFrame\n",
            "\n",
            "See the caveats in the documentation: https://pandas.pydata.org/pandas-docs/stable/user_guide/indexing.html#returning-a-view-versus-a-copy\n",
            "/usr/local/lib/python3.6/dist-packages/ipykernel_launcher.py:43: SettingWithCopyWarning: \n",
            "A value is trying to be set on a copy of a slice from a DataFrame\n",
            "\n",
            "See the caveats in the documentation: https://pandas.pydata.org/pandas-docs/stable/user_guide/indexing.html#returning-a-view-versus-a-copy\n"
          ],
          "name": "stderr"
        }
      ]
    },
    {
      "cell_type": "code",
      "metadata": {
        "id": "0ej8s4ACrjT5"
      },
      "source": [
        "#Setup para el Label Encoding\n",
        "\n",
        "le = preprocessing.LabelEncoder()\n",
        "categorical_columns = [\"Region\", \"Bureaucratic_Code\", \"Source\", \"Account_Type\",\n",
        "                       \"Opportunity_Type\", \"Quote_Type\", \"Delivery_Terms\"]\n",
        "\n",
        "no_enc_df = df.copy() #Creo este aux para mantener el encoding para las predicciones"
      ],
      "execution_count": 4,
      "outputs": []
    },
    {
      "cell_type": "code",
      "metadata": {
        "id": "KeQygSvUZYG9"
      },
      "source": [
        "#Le aplico la codificacion a las columnas categoricas\n",
        "\n",
        "for feature in categorical_columns:\n",
        "  le.fit(df[feature]) #Calcula los codigos de cada valor de la serie que recibe\n",
        "  df[feature] = le.transform(df[feature]) #Le asigno al df los valores codificados\n",
        "\n",
        "df.fillna(0, inplace=True) #VER SI ESTE DROPNA ES NECESARIO O NO\n",
        "#df.head(10)"
      ],
      "execution_count": 5,
      "outputs": []
    },
    {
      "cell_type": "code",
      "metadata": {
        "id": "nVYbsW6GyIEz"
      },
      "source": [
        "X_train, X_test, y_train, y_test = train_test_split(df.values, df[\"Stage\"], test_size=0.04) #Separa el df en sets de \"training\" y validacion\n",
        "\n",
        "#Estas lineas hacen la estandarizacion a TODAS las columnas, por lo que esta mal, pero por alguna razon dan mejor que si solo normalizo las numericas\n",
        "scaler = StandardScaler()\n",
        "scaler.fit(X_train)\n",
        "X_train = scaler.transform(X_train)\n",
        "X_test = scaler.transform(X_test)"
      ],
      "execution_count": 6,
      "outputs": []
    },
    {
      "cell_type": "code",
      "metadata": {
        "colab": {
          "base_uri": "https://localhost:8080/"
        },
        "id": "Cnjux_bLsLZN",
        "outputId": "79e3f977-1814-4897-c029-73ebb8ea36ed"
      },
      "source": [
        "log_loss_min = 100\n",
        "curr_log_loss = 0\n",
        "best_accuracy = 0\n",
        "curr_accuracy = 0\n",
        "best_n = 0\n",
        "\n",
        "model = KNeighborsClassifier()\n",
        "best_model = model #Creo este aux para despues hacer las predicciones, ya que sino model queda con el ultimo i\n",
        "\n",
        "for n in range(90,110):\n",
        "  print(\"n =\", n)\n",
        "  model = KNeighborsClassifier(n_neighbors=n, algorithm=\"kd_tree\", weights=\"distance\")#Ver que algoritmo usar y los otros parametros\n",
        "  model.fit(X_train,y_train)\n",
        "  y_pred = model.predict(X_test)\n",
        "  curr_log_loss = metrics.log_loss(y_test, y_pred)\n",
        "  curr_accuracy = metrics.accuracy_score(y_test, y_pred)\n",
        "  print(curr_log_loss, curr_accuracy)\n",
        "  if (curr_log_loss < log_loss_min):\n",
        "        log_loss_min = curr_log_loss\n",
        "        best_accuracy = curr_accuracy\n",
        "        best_n = n\n",
        "        best_model = model\n",
        "\n",
        "\n",
        "print(best_n, log_loss_min, best_accuracy)\n",
        "    "
      ],
      "execution_count": 7,
      "outputs": [
        {
          "output_type": "stream",
          "text": [
            "n = 90\n",
            "0.7048872661767784 0.9795918367346939\n",
            "n = 91\n",
            "0.7048872661767784 0.9795918367346939\n",
            "n = 92\n",
            "0.6167761029310109 0.9821428571428571\n",
            "n = 93\n",
            "0.7048872661767784 0.9795918367346939\n",
            "n = 94\n",
            "0.7048872661767784 0.9795918367346939\n",
            "n = 95\n",
            "0.7048872661767784 0.9795918367346939\n",
            "n = 96\n",
            "0.7048872661767784 0.9795918367346939\n",
            "n = 97\n",
            "0.7048872661767784 0.9795918367346939\n",
            "n = 98\n",
            "0.7048872661767784 0.9795918367346939\n",
            "n = 99\n",
            "0.7929963896331833 0.9770408163265306\n",
            "n = 100\n",
            "0.7929963896331833 0.9770408163265306\n",
            "n = 101\n",
            "0.7929963896331833 0.9770408163265306\n",
            "n = 102\n",
            "0.7929963896331833 0.9770408163265306\n",
            "n = 103\n",
            "0.7929963896331833 0.9770408163265306\n",
            "n = 104\n",
            "0.7048872661767784 0.9795918367346939\n",
            "n = 105\n",
            "0.7929963896331833 0.9770408163265306\n",
            "n = 106\n",
            "0.7929963896331833 0.9770408163265306\n",
            "n = 107\n",
            "0.7929963896331833 0.9770408163265306\n",
            "n = 108\n",
            "0.7048852263874158 0.9795918367346939\n",
            "n = 109\n",
            "0.7929963896331833 0.9770408163265306\n",
            "92 0.6167761029310109 0.9821428571428571\n"
          ],
          "name": "stdout"
        }
      ]
    },
    {
      "cell_type": "code",
      "metadata": {
        "colab": {
          "base_uri": "https://localhost:8080/"
        },
        "id": "Mtzjf93e3SZm",
        "outputId": "9551057f-cffc-4537-bac1-b69af5ee7163"
      },
      "source": [
        "#Aca arranca la parte de las predicciones\r\n",
        "\r\n",
        "frio_test_df = pd.read_csv('Test_TP2_Datos_2020-2C.csv')\r\n",
        "frio_test_df['Stage'] = 'Closed Won' #Esto esta solo para que funque todo, no lo uso. No se bien como armarlo sin los labels de Stage. TODO: Averiguar como es!\r\n",
        "pred_df = frio_test_df[['Opportunity_ID']] #Esta columna la vuela el preprocesado sino\r\n",
        "pred_df.drop_duplicates(subset='Opportunity_ID', inplace=True)\r\n",
        "frio_test_df = preprocess_dataframe(frio_test_df)\r\n",
        "\r\n",
        "#frio_test_df.head(15)"
      ],
      "execution_count": 8,
      "outputs": [
        {
          "output_type": "stream",
          "text": [
            "/usr/local/lib/python3.6/dist-packages/ipykernel_launcher.py:6: SettingWithCopyWarning: \n",
            "A value is trying to be set on a copy of a slice from a DataFrame\n",
            "\n",
            "See the caveats in the documentation: https://pandas.pydata.org/pandas-docs/stable/user_guide/indexing.html#returning-a-view-versus-a-copy\n",
            "  \n",
            "/usr/local/lib/python3.6/dist-packages/ipykernel_launcher.py:42: SettingWithCopyWarning: \n",
            "A value is trying to be set on a copy of a slice from a DataFrame\n",
            "\n",
            "See the caveats in the documentation: https://pandas.pydata.org/pandas-docs/stable/user_guide/indexing.html#returning-a-view-versus-a-copy\n",
            "/usr/local/lib/python3.6/dist-packages/ipykernel_launcher.py:43: SettingWithCopyWarning: \n",
            "A value is trying to be set on a copy of a slice from a DataFrame\n",
            "\n",
            "See the caveats in the documentation: https://pandas.pydata.org/pandas-docs/stable/user_guide/indexing.html#returning-a-view-versus-a-copy\n"
          ],
          "name": "stderr"
        }
      ]
    },
    {
      "cell_type": "code",
      "metadata": {
        "id": "xLFcUT26ouNU"
      },
      "source": [
        "#Codifico las columnas categoricas\n",
        "\n",
        "for feature in categorical_columns:\n",
        "  le.fit(no_enc_df[feature])\n",
        "  frio_test_df[feature] = le.transform(frio_test_df[feature])\n",
        "\n",
        "frio_test_df.fillna(0,inplace=True)#Ver si este fillna es necesario\n",
        "#frio_test_df.head(15)"
      ],
      "execution_count": 9,
      "outputs": []
    },
    {
      "cell_type": "code",
      "metadata": {
        "id": "_YQqjCWjnux-"
      },
      "source": [
        "features = frio_test_df.values\n",
        "\n",
        "#Escalo todas las columnas. Como ya puse antes, en teoria esta mal, pero da mejor\n",
        "scaler.fit(features)\n",
        "features = scaler.transform(features)\n",
        "\n",
        "predictions = best_model.predict_proba(features)\n",
        "\n",
        "pred_df['Target'] = predictions[:,1]\n",
        "\n",
        "pred_df.to_csv('prediccionesFrioFrio.csv', index=False)"
      ],
      "execution_count": 10,
      "outputs": []
    },
    {
      "cell_type": "code",
      "metadata": {
        "colab": {
          "base_uri": "https://localhost:8080/",
          "height": 419
        },
        "id": "4rHqnaPXr9uJ",
        "outputId": "368f673c-de1e-446c-bc17-345e889c7f91"
      },
      "source": [
        "pred_df"
      ],
      "execution_count": 11,
      "outputs": [
        {
          "output_type": "execute_result",
          "data": {
            "text/html": [
              "<div>\n",
              "<style scoped>\n",
              "    .dataframe tbody tr th:only-of-type {\n",
              "        vertical-align: middle;\n",
              "    }\n",
              "\n",
              "    .dataframe tbody tr th {\n",
              "        vertical-align: top;\n",
              "    }\n",
              "\n",
              "    .dataframe thead th {\n",
              "        text-align: right;\n",
              "    }\n",
              "</style>\n",
              "<table border=\"1\" class=\"dataframe\">\n",
              "  <thead>\n",
              "    <tr style=\"text-align: right;\">\n",
              "      <th></th>\n",
              "      <th>Opportunity_ID</th>\n",
              "      <th>Target</th>\n",
              "    </tr>\n",
              "  </thead>\n",
              "  <tbody>\n",
              "    <tr>\n",
              "      <th>0</th>\n",
              "      <td>10689</td>\n",
              "      <td>0.991527</td>\n",
              "    </tr>\n",
              "    <tr>\n",
              "      <th>3</th>\n",
              "      <td>10690</td>\n",
              "      <td>0.873707</td>\n",
              "    </tr>\n",
              "    <tr>\n",
              "      <th>8</th>\n",
              "      <td>10691</td>\n",
              "      <td>0.855222</td>\n",
              "    </tr>\n",
              "    <tr>\n",
              "      <th>9</th>\n",
              "      <td>10692</td>\n",
              "      <td>0.842214</td>\n",
              "    </tr>\n",
              "    <tr>\n",
              "      <th>15</th>\n",
              "      <td>10693</td>\n",
              "      <td>0.944709</td>\n",
              "    </tr>\n",
              "    <tr>\n",
              "      <th>...</th>\n",
              "      <td>...</td>\n",
              "      <td>...</td>\n",
              "    </tr>\n",
              "    <tr>\n",
              "      <th>2545</th>\n",
              "      <td>12364</td>\n",
              "      <td>1.000000</td>\n",
              "    </tr>\n",
              "    <tr>\n",
              "      <th>2547</th>\n",
              "      <td>12365</td>\n",
              "      <td>0.933364</td>\n",
              "    </tr>\n",
              "    <tr>\n",
              "      <th>2548</th>\n",
              "      <td>12366</td>\n",
              "      <td>0.746012</td>\n",
              "    </tr>\n",
              "    <tr>\n",
              "      <th>2549</th>\n",
              "      <td>12367</td>\n",
              "      <td>0.272272</td>\n",
              "    </tr>\n",
              "    <tr>\n",
              "      <th>2550</th>\n",
              "      <td>12368</td>\n",
              "      <td>0.231425</td>\n",
              "    </tr>\n",
              "  </tbody>\n",
              "</table>\n",
              "<p>1567 rows × 2 columns</p>\n",
              "</div>"
            ],
            "text/plain": [
              "      Opportunity_ID    Target\n",
              "0              10689  0.991527\n",
              "3              10690  0.873707\n",
              "8              10691  0.855222\n",
              "9              10692  0.842214\n",
              "15             10693  0.944709\n",
              "...              ...       ...\n",
              "2545           12364  1.000000\n",
              "2547           12365  0.933364\n",
              "2548           12366  0.746012\n",
              "2549           12367  0.272272\n",
              "2550           12368  0.231425\n",
              "\n",
              "[1567 rows x 2 columns]"
            ]
          },
          "metadata": {
            "tags": []
          },
          "execution_count": 11
        }
      ]
    },
    {
      "cell_type": "code",
      "metadata": {
        "colab": {
          "base_uri": "https://localhost:8080/"
        },
        "id": "cjBPGiCTobZc",
        "outputId": "95737cd7-81d0-4331-daec-f57f87f123d2"
      },
      "source": [
        "#Aca hago el \"train\" sin train/test split\r\n",
        "\"\"\"\r\n",
        "df = pd.read_csv(\"Train_TP2_Datos_2020-2C.csv\") \r\n",
        "df = preprocess_dataframe(df)\r\n",
        "\r\n",
        "#creating labelEncoder\r\n",
        "#le = preprocessing.LabelEncoder()\r\n",
        "categorical_columns = [\"Region\", \"Bureaucratic_Code\", \"Source\", \"Account_Type\",\r\n",
        "                       \"Opportunity_Type\", \"Quote_Type\", \"Delivery_Terms\"]\r\n",
        "\r\n",
        "no_enc_df = df.copy()\r\n",
        "\r\n",
        "for feature in categorical_columns:\r\n",
        "  le.fit(df[feature])\r\n",
        "  df[feature] = le.transform(df[feature])\r\n",
        "\r\n",
        "df.dropna(inplace=True)\r\n",
        "df.head(10)\r\n",
        "\r\n",
        "target = df[\"Stage\"]\r\n",
        "features = df.values\r\n",
        "\r\n",
        "#X_train, X_test, y_train, y_test = train_test_split(features, df[\"Stage\"], test_size=0.01) # 70% training and 30% test\r\n",
        "\r\n",
        "#Estas lineas hacen la estandarizacion a TODAS las columnas, por lo que esta mal, pero por alguna razon dan mejor que si solo normalizo las numericas\r\n",
        "scaler = StandardScaler()\r\n",
        "scaler.fit(features)\r\n",
        "features = scaler.transform(features)\r\n",
        "\r\n",
        "model = KNeighborsClassifier(n_neighbors=105, algorithm=\"kd_tree\", weights=\"distance\")#Ver que algoritmo usar y los otros parametros\r\n",
        "model.fit(features,target)\r\n",
        "\"\"\""
      ],
      "execution_count": 12,
      "outputs": [
        {
          "output_type": "stream",
          "text": [
            "/usr/local/lib/python3.6/dist-packages/pandas/core/series.py:4582: SettingWithCopyWarning: \n",
            "A value is trying to be set on a copy of a slice from a DataFrame\n",
            "\n",
            "See the caveats in the documentation: https://pandas.pydata.org/pandas-docs/stable/user_guide/indexing.html#returning-a-view-versus-a-copy\n",
            "  method=method,\n",
            "/usr/local/lib/python3.6/dist-packages/pandas/core/indexing.py:1743: SettingWithCopyWarning: \n",
            "A value is trying to be set on a copy of a slice from a DataFrame.\n",
            "Try using .loc[row_indexer,col_indexer] = value instead\n",
            "\n",
            "See the caveats in the documentation: https://pandas.pydata.org/pandas-docs/stable/user_guide/indexing.html#returning-a-view-versus-a-copy\n",
            "  isetter(ilocs[0], value)\n",
            "/usr/local/lib/python3.6/dist-packages/ipykernel_launcher.py:42: SettingWithCopyWarning: \n",
            "A value is trying to be set on a copy of a slice from a DataFrame\n",
            "\n",
            "See the caveats in the documentation: https://pandas.pydata.org/pandas-docs/stable/user_guide/indexing.html#returning-a-view-versus-a-copy\n",
            "/usr/local/lib/python3.6/dist-packages/ipykernel_launcher.py:43: SettingWithCopyWarning: \n",
            "A value is trying to be set on a copy of a slice from a DataFrame\n",
            "\n",
            "See the caveats in the documentation: https://pandas.pydata.org/pandas-docs/stable/user_guide/indexing.html#returning-a-view-versus-a-copy\n"
          ],
          "name": "stderr"
        },
        {
          "output_type": "execute_result",
          "data": {
            "text/plain": [
              "KNeighborsClassifier(algorithm='kd_tree', leaf_size=30, metric='minkowski',\n",
              "                     metric_params=None, n_jobs=None, n_neighbors=105, p=2,\n",
              "                     weights='distance')"
            ]
          },
          "metadata": {
            "tags": []
          },
          "execution_count": 12
        }
      ]
    },
    {
      "cell_type": "code",
      "metadata": {
        "colab": {
          "base_uri": "https://localhost:8080/"
        },
        "id": "tOrbD4NZor_j",
        "outputId": "bfdddcca-e7af-4f1e-9f97-0a06d6d92d62"
      },
      "source": [
        "\"\"\"\r\n",
        "frio_test_df = pd.read_csv('Test_TP2_Datos_2020-2C.csv')\r\n",
        "frio_test_df['Stage'] = 'Closed Won' #Esto esta solo para que funque todo, no lo uso. No se bien como armarlo sin los labels de Stage. TODO: Averiguar como es!\r\n",
        "aux_df = frio_test_df[['Opportunity_ID']] #Esta columna la vuela el preprocesado sino\r\n",
        "aux_df.drop_duplicates(subset='Opportunity_ID', inplace=True)\r\n",
        "\r\n",
        "frio_test_df = preprocess_dataframe(frio_test_df)\r\n",
        "\r\n",
        "#creating labelEncoder\r\n",
        "#le = preprocessing.LabelEncoder()\r\n",
        "categorical_columns = [\"Region\", \"Bureaucratic_Code\", \"Source\", \"Account_Type\",\r\n",
        "                       \"Opportunity_Type\", \"Quote_Type\", \"Delivery_Terms\"]\r\n",
        "\r\n",
        "for feature in categorical_columns:\r\n",
        "  le.fit(no_enc_df[feature])\r\n",
        "  frio_test_df[feature] = le.transform(frio_test_df[feature])\r\n",
        "\r\n",
        "frio_test_df.fillna(0,inplace=True)\r\n",
        "frio_test_df.head(15)\r\n",
        "\r\n",
        "features2 = frio_test_df.values\r\n",
        "\r\n",
        "scaler = StandardScaler()\r\n",
        "scaler.fit(features2)\r\n",
        "features2 = scaler.transform(features2)\r\n",
        "\r\n",
        "predictions = model.predict_proba(features2)\r\n",
        "\r\n",
        "aux_df['Target'] = predictions[:,1]\r\n",
        "\r\n",
        "aux_df.to_csv('prediccionesFrioFrioSinTest.csv', index=False)\r\n",
        "\"\"\""
      ],
      "execution_count": 13,
      "outputs": [
        {
          "output_type": "stream",
          "text": [
            "/usr/local/lib/python3.6/dist-packages/ipykernel_launcher.py:4: SettingWithCopyWarning: \n",
            "A value is trying to be set on a copy of a slice from a DataFrame\n",
            "\n",
            "See the caveats in the documentation: https://pandas.pydata.org/pandas-docs/stable/user_guide/indexing.html#returning-a-view-versus-a-copy\n",
            "  after removing the cwd from sys.path.\n",
            "/usr/local/lib/python3.6/dist-packages/ipykernel_launcher.py:42: SettingWithCopyWarning: \n",
            "A value is trying to be set on a copy of a slice from a DataFrame\n",
            "\n",
            "See the caveats in the documentation: https://pandas.pydata.org/pandas-docs/stable/user_guide/indexing.html#returning-a-view-versus-a-copy\n",
            "/usr/local/lib/python3.6/dist-packages/ipykernel_launcher.py:43: SettingWithCopyWarning: \n",
            "A value is trying to be set on a copy of a slice from a DataFrame\n",
            "\n",
            "See the caveats in the documentation: https://pandas.pydata.org/pandas-docs/stable/user_guide/indexing.html#returning-a-view-versus-a-copy\n"
          ],
          "name": "stderr"
        }
      ]
    },
    {
      "cell_type": "code",
      "metadata": {
        "colab": {
          "base_uri": "https://localhost:8080/",
          "height": 419
        },
        "id": "jG3sg-f_YDaS",
        "outputId": "63fa07ff-491b-4616-d541-26528dd40456"
      },
      "source": [
        "#aux_df"
      ],
      "execution_count": 14,
      "outputs": [
        {
          "output_type": "execute_result",
          "data": {
            "text/html": [
              "<div>\n",
              "<style scoped>\n",
              "    .dataframe tbody tr th:only-of-type {\n",
              "        vertical-align: middle;\n",
              "    }\n",
              "\n",
              "    .dataframe tbody tr th {\n",
              "        vertical-align: top;\n",
              "    }\n",
              "\n",
              "    .dataframe thead th {\n",
              "        text-align: right;\n",
              "    }\n",
              "</style>\n",
              "<table border=\"1\" class=\"dataframe\">\n",
              "  <thead>\n",
              "    <tr style=\"text-align: right;\">\n",
              "      <th></th>\n",
              "      <th>Opportunity_ID</th>\n",
              "      <th>Target</th>\n",
              "    </tr>\n",
              "  </thead>\n",
              "  <tbody>\n",
              "    <tr>\n",
              "      <th>0</th>\n",
              "      <td>10689</td>\n",
              "      <td>0.992351</td>\n",
              "    </tr>\n",
              "    <tr>\n",
              "      <th>3</th>\n",
              "      <td>10690</td>\n",
              "      <td>0.888240</td>\n",
              "    </tr>\n",
              "    <tr>\n",
              "      <th>8</th>\n",
              "      <td>10691</td>\n",
              "      <td>0.872243</td>\n",
              "    </tr>\n",
              "    <tr>\n",
              "      <th>9</th>\n",
              "      <td>10692</td>\n",
              "      <td>0.824842</td>\n",
              "    </tr>\n",
              "    <tr>\n",
              "      <th>15</th>\n",
              "      <td>10693</td>\n",
              "      <td>0.920315</td>\n",
              "    </tr>\n",
              "    <tr>\n",
              "      <th>...</th>\n",
              "      <td>...</td>\n",
              "      <td>...</td>\n",
              "    </tr>\n",
              "    <tr>\n",
              "      <th>2545</th>\n",
              "      <td>12364</td>\n",
              "      <td>1.000000</td>\n",
              "    </tr>\n",
              "    <tr>\n",
              "      <th>2547</th>\n",
              "      <td>12365</td>\n",
              "      <td>0.931720</td>\n",
              "    </tr>\n",
              "    <tr>\n",
              "      <th>2548</th>\n",
              "      <td>12366</td>\n",
              "      <td>0.721889</td>\n",
              "    </tr>\n",
              "    <tr>\n",
              "      <th>2549</th>\n",
              "      <td>12367</td>\n",
              "      <td>0.322218</td>\n",
              "    </tr>\n",
              "    <tr>\n",
              "      <th>2550</th>\n",
              "      <td>12368</td>\n",
              "      <td>0.248026</td>\n",
              "    </tr>\n",
              "  </tbody>\n",
              "</table>\n",
              "<p>1567 rows × 2 columns</p>\n",
              "</div>"
            ],
            "text/plain": [
              "      Opportunity_ID    Target\n",
              "0              10689  0.992351\n",
              "3              10690  0.888240\n",
              "8              10691  0.872243\n",
              "9              10692  0.824842\n",
              "15             10693  0.920315\n",
              "...              ...       ...\n",
              "2545           12364  1.000000\n",
              "2547           12365  0.931720\n",
              "2548           12366  0.721889\n",
              "2549           12367  0.322218\n",
              "2550           12368  0.248026\n",
              "\n",
              "[1567 rows x 2 columns]"
            ]
          },
          "metadata": {
            "tags": []
          },
          "execution_count": 14
        }
      ]
    }
  ]
}