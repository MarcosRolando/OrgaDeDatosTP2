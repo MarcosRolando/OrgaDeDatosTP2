{
  "nbformat": 4,
  "nbformat_minor": 0,
  "metadata": {
    "colab": {
      "name": "KNN.ipynb",
      "provenance": [],
      "collapsed_sections": []
    },
    "kernelspec": {
      "display_name": "Python 3",
      "name": "python3"
    }
  },
  "cells": [
    {
      "cell_type": "code",
      "metadata": {
        "id": "5YArL1Q-quMm"
      },
      "source": [
        "import pandas as pd\n",
        "import tensorflow as tf\n",
        "import regex as re\n",
        "from sklearn import preprocessing\n",
        "from sklearn.neighbors import KNeighborsClassifier\n",
        "from sklearn.neighbors import RadiusNeighborsClassifier\n",
        "from sklearn import metrics\n",
        "from sklearn.model_selection import train_test_split\n",
        "from sklearn.preprocessing import StandardScaler\n",
        "import numpy as np\n",
        "import matplotlib.pyplot as plt\n",
        "from sklearn.neighbors import LocalOutlierFactor"
      ],
      "execution_count": 1,
      "outputs": []
    },
    {
      "cell_type": "code",
      "metadata": {
        "id": "lsM1vJC9Qwns"
      },
      "source": [
        "from IPython.display import clear_output"
      ],
      "execution_count": 2,
      "outputs": []
    },
    {
      "cell_type": "code",
      "metadata": {
        "id": "Uk1gLEAAkjfG"
      },
      "source": [
        "def preprocess_dataframe(df):\r\n",
        "\r\n",
        "  df.fillna(value=0, inplace=True) #Reemplazamos NAN por 0, ya que NAN rompe a Tensorflow\r\n",
        "\r\n",
        "  #Renombramos las columnas que tienen caracteres que TensorFlow no acepta como validos.\r\n",
        "  #Estos particularmente son whitespace, coma y parentesis por ejemplo.\r\n",
        "  df.rename(columns={'ASP_(converted)':'ASP_converted','Pricing, Delivery_Terms_Quote_Appr':\r\n",
        "                    'Pricing_Delivery_Terms_Quote_Appr','Pricing, Delivery_Terms_Approved':\r\n",
        "                    'Pricing_Delivery_Terms_Approved','Source ':'Source'},inplace=True)\r\n",
        "\r\n",
        "  df = df[df['Stage'].isin(['Closed Won', 'Closed Lost'])]\r\n",
        "  df.loc[:, 'Stage'].replace({'Closed Won':1, 'Closed Lost':0}, inplace=True) #0 corresponde a que el caso fue Closed Lost, 1 a que fue Closed Won.\r\n",
        "\r\n",
        "  df.loc[:, 'Planned_Delivery_Start_Date'] = pd.to_datetime(df['Planned_Delivery_Start_Date'], 'coerce',\r\n",
        "                                                                  format='%m/%d/%Y')\r\n",
        "  df.loc[:, 'Planned_Delivery_End_Date'] = pd.to_datetime(df['Planned_Delivery_End_Date'], 'coerce',\r\n",
        "                                                                                      format='%m/%d/%Y')\r\n",
        "  df = df[df['Opportunity_ID'] != 9773] #Hardcodeo este filtrado porque el id 9773 tiene mal cargada la fecha de delivery end, dando una diferencia de 200 anios xd\"\r\n",
        "\r\n",
        "  #Creamos una nueva columna (Feature Engineering) que contiene la longitud en dias \r\n",
        "  #estimada de la operacion. En el informe habiamos encontrado que aparentaba haber\r\n",
        "  #una relacion cuadratica de decrecimiento a medida que aumentaban los dias donde disminuia\r\n",
        "  #la chance de completar la operacion.\r\n",
        "  df['Delta_Time'] = df['Planned_Delivery_End_Date'] - df['Planned_Delivery_Start_Date']\r\n",
        "  df.loc[:, 'Delta_Time'] = df['Delta_Time'].dt.days\r\n",
        "  df['Delta_Time'] = df['Delta_Time'].replace({np.nan:10.0}) #Reemplazo con 10 porque los que no tienen fecha final ganan el 60%, y el analisis de los datos da que el 60% es maso a los 10 dias. Asi no jodo el resto de los datos\r\n",
        "  df['Delta_Time'] = df.groupby('Opportunity_ID')['Delta_Time'].transform('max')\r\n",
        "\r\n",
        "  #Pasamos todo a dolares\r\n",
        "  currency_conversion = {'AUD':0.707612, 'EUR':1.131064, 'GBP':1.318055, 'JPY':0.008987, 'USD':1.0}\r\n",
        "  df['Total_Taxable_Amount_Currency'] = df[['Total_Taxable_Amount_Currency']].replace(currency_conversion)\r\n",
        "  df['Total_Taxable_Amount'] = df['Total_Taxable_Amount_Currency'] * df['Total_Taxable_Amount']\r\n",
        "\r\n",
        "  #Modifico la columna Brand para que en vez de decir que marca es, solo diga\r\n",
        "  #si tiene o no marca. Es importante aclarar que verificamos que siempre que una oportunidad\r\n",
        "  #tiene un producto con marca entonces todos sus productos tienen marca. Esto se cumple\r\n",
        "  #tanto en el set de entrenamiento como en el de test, por lo tanto al hacer drop_duplicates\r\n",
        "  #no nos va a pasar nunca el caso donde nos pudieramos quedar con una entrada de producto\r\n",
        "  #sin marca mientras que algun otro producto si tuviera, ya que confirmamos que o todos tienen\r\n",
        "  #marca o ninguno tiene.\r\n",
        "  df.loc[df['Brand'] == 'None', 'Brand'] = 'No'\r\n",
        "  df.loc[df['Brand'] != 'No', 'Brand'] = 'Yes'\r\n",
        "\r\n",
        "  #Agrego una columna que indique la cantidad de productos que tiene esa\r\n",
        "  #oportunidad\r\n",
        "  df['Product'] = 1\r\n",
        "  df['Product_Amount'] = df.groupby('Opportunity_ID')['Product'].transform(lambda x: x.sum())\r\n",
        "\r\n",
        "  #Agrego una columna que indica si el owner de la cuenta es el mismo que el de la oportunidad\r\n",
        "  #o no\r\n",
        "  df['Same_Owner'] = (df['Account_Owner'] == df['Opportunity_Owner'])\r\n",
        "  df['Same_Owner'] = df['Same_Owner'].replace({False:'No', True:'Yes'})\r\n",
        "\r\n",
        "  #Agrego una columna que indica si tiene o no fecha de expiracion\r\n",
        "  df['Quote_Expiry_Date'] = (df['Quote_Expiry_Date'] != 'NaT')\r\n",
        "  df.rename(columns={'Quote_Expiry_Date':'Has_Expiry_Date'}, inplace=True)\r\n",
        "  df['Has_Expiry_Date'] = df['Has_Expiry_Date'].replace({True:'Yes',False:'No'})\r\n",
        "\r\n",
        "  #Reemplazo las 4 columnas de aprobacion por solo 2 columnas que indiquen si tuvo la aprobacion\r\n",
        "  #de delivery y burocratica o no. Recalco que si nunca la necesito seria equivalente a si\r\n",
        "  #la necesito y la consiguio.\r\n",
        "  df['Delivery_Approved'] = df['Pricing_Delivery_Terms_Quote_Appr'] + df['Pricing_Delivery_Terms_Approved']\r\n",
        "  df['Delivery_Approved'] = df['Delivery_Approved'].replace({0:1, 1:0, 2:1})\r\n",
        "  df['Bureaucratic_Code_Approved'] = df['Bureaucratic_Code_0_Approval'] + df['Bureaucratic_Code_0_Approved']\r\n",
        "  df['Bureaucratic_Code_Approved'] = df['Bureaucratic_Code_Approved'].replace({0:1, 1:0, 2:1})\r\n",
        "  df['Approved'] = df['Delivery_Approved'] & df['Bureaucratic_Code_Approved']\r\n",
        "\r\n",
        "  #Cambio TRF por una columna que es el valor medio de los TRF de la oportunidad\r\n",
        "  df[\"TRF\"] = df.groupby(\"Opportunity_ID\")[\"TRF\"].transform(\"mean\")\r\n",
        "\r\n",
        "  def combineProducts(x):\r\n",
        "    products = \"\"\r\n",
        "    added = []\r\n",
        "    for product in x:\r\n",
        "      product = re.findall('\\d+', product)[0]\r\n",
        "      if added.count(product) == 0:\r\n",
        "        products += (product)\r\n",
        "        added.append(product)\r\n",
        "    return products\r\n",
        "\r\n",
        "  #Junto todos los productos en una sola entrada\r\n",
        "  df['Products'] = df.groupby('Opportunity_ID')['Product_Family'].transform(combineProducts)\r\n",
        "\r\n",
        "  #Pruebo dropear duplicados, solo cambia el producto. Si el producto no importa\r\n",
        "  #entonces dropear duplicados no deberia importar. Obviamente dropeo el producto en el que\r\n",
        "  #quede tambien.\r\n",
        "  df.drop_duplicates('Opportunity_Name',inplace=True)\r\n",
        "  df.drop(columns=['Product_Name','Product_Family','Opportunity_Name'],inplace=True)\r\n",
        "\r\n",
        "  #Normalizo las columnas numericas\r\n",
        "  normalized_columns = ['ASP_converted','TRF','Total_Taxable_Amount', 'Product_Amount', 'Delta_Time']\r\n",
        "  for column in normalized_columns:\r\n",
        "    df[column] = (df[column] - df[column].mean()) / df[column].std()\r\n",
        "\r\n",
        "  #Borro columnas que tengan el mismo dato en todas las entradas, o inconsecuentes como el ID / Opportunity_ID\r\n",
        "  df.drop(columns=['Submitted_for_Approval', 'Last_Activity', 'ASP_(converted)_Currency', \r\n",
        "                  'Prod_Category_A', 'ID', 'Opportunity_ID', \r\n",
        "                   'Actual_Delivery_Date'],inplace=True)\r\n",
        "\r\n",
        "  #Dropeamos las columnas que no utilizamos\r\n",
        "  df.drop(columns=['Account_Created_Date','Opportunity_Created_Date',\r\n",
        "                   'Last_Modified_Date','Planned_Delivery_Start_Date',\r\n",
        "                   'Planned_Delivery_End_Date',\r\n",
        "                   'Month', 'Delivery_Year','Price','ASP','ASP_Currency',\r\n",
        "                   'Total_Amount_Currency',\r\n",
        "                   'Total_Amount','Total_Taxable_Amount_Currency','Currency',\r\n",
        "                   'Product_Category_B','Last_Modified_By', 'Account_Owner',\r\n",
        "                   'Opportunity_Owner','Account_Name','Product_Type','Size',\r\n",
        "                   'Billing_Country', 'Pricing_Delivery_Terms_Quote_Appr',\r\n",
        "                   'Pricing_Delivery_Terms_Approved', 'Bureaucratic_Code_0_Approval',\r\n",
        "                   'Bureaucratic_Code_0_Approved',\r\n",
        "                   'Approved','Territory', \"Sales_Contract_No\"]\r\n",
        "                   ,inplace=True)\r\n",
        "\r\n",
        "  return df"
      ],
      "execution_count": 3,
      "outputs": []
    },
    {
      "cell_type": "code",
      "metadata": {
        "id": "TrZfZ9HBq6Z-",
        "colab": {
          "base_uri": "https://localhost:8080/"
        },
        "outputId": "477f021d-52a8-46a7-c020-b4f916933fbd"
      },
      "source": [
        "df = pd.read_csv(\"Train_TP2_Datos_2020-2C.csv\") \n",
        "df = preprocess_dataframe(df)"
      ],
      "execution_count": 4,
      "outputs": [
        {
          "output_type": "stream",
          "text": [
            "/usr/local/lib/python3.7/dist-packages/pandas/core/series.py:4582: SettingWithCopyWarning: \n",
            "A value is trying to be set on a copy of a slice from a DataFrame\n",
            "\n",
            "See the caveats in the documentation: https://pandas.pydata.org/pandas-docs/stable/user_guide/indexing.html#returning-a-view-versus-a-copy\n",
            "  method=method,\n",
            "/usr/local/lib/python3.7/dist-packages/pandas/core/indexing.py:1743: SettingWithCopyWarning: \n",
            "A value is trying to be set on a copy of a slice from a DataFrame.\n",
            "Try using .loc[row_indexer,col_indexer] = value instead\n",
            "\n",
            "See the caveats in the documentation: https://pandas.pydata.org/pandas-docs/stable/user_guide/indexing.html#returning-a-view-versus-a-copy\n",
            "  isetter(ilocs[0], value)\n"
          ],
          "name": "stderr"
        }
      ]
    },
    {
      "cell_type": "code",
      "metadata": {
        "id": "0ej8s4ACrjT5"
      },
      "source": [
        "#Setup para el Label Encoding\n",
        "\n",
        "le = preprocessing.LabelEncoder()\n",
        "categorical_columns = [\"Region\",\"Bureaucratic_Code\",\"Source\",\"Account_Type\",\n",
        "                       \"Opportunity_Type\",\"Quote_Type\",\"Delivery_Terms\",\"Brand\",\n",
        "                       \"Has_Expiry_Date\",\"Delivery_Quarter\",\"Same_Owner\"]\n",
        "\n",
        "no_enc_df = df.copy() #Creo este aux para mantener el encoding para las predicciones"
      ],
      "execution_count": 5,
      "outputs": []
    },
    {
      "cell_type": "code",
      "metadata": {
        "id": "KeQygSvUZYG9"
      },
      "source": [
        "#Le aplico la codificacion a las columnas categoricas\n",
        "\n",
        "for feature in categorical_columns:\n",
        "  le.fit(df[feature]) #Calcula los codigos de cada valor de la serie que recibe\n",
        "  df[feature] = le.transform(df[feature]) #Le asigno al df los valores codificados"
      ],
      "execution_count": 6,
      "outputs": []
    },
    {
      "cell_type": "code",
      "metadata": {
        "id": "PD8Q-BZVJnzm"
      },
      "source": [
        "#Tomo la columna target para el target y luego la dropeo del dataset\r\n",
        "\r\n",
        "target = df[\"Stage\"].copy()\r\n",
        "df.drop(columns=[\"Stage\"],inplace=True)"
      ],
      "execution_count": 7,
      "outputs": []
    },
    {
      "cell_type": "code",
      "metadata": {
        "id": "nVYbsW6GyIEz"
      },
      "source": [
        "X_train, X_test, y_train, y_test = train_test_split(df.values, target, test_size=0.05) #Separa el df en sets de \"training\" y validacion\n",
        "\n",
        "#Normalizacion de las columnas\n",
        "scaler = StandardScaler()\n",
        "scaler.fit(X_train)\n",
        "X_train = scaler.transform(X_train)\n",
        "X_test = scaler.transform(X_test)"
      ],
      "execution_count": 8,
      "outputs": []
    },
    {
      "cell_type": "code",
      "metadata": {
        "id": "Cnjux_bLsLZN",
        "colab": {
          "base_uri": "https://localhost:8080/"
        },
        "outputId": "dbdfcdde-0690-48a9-978e-de40c1c083ea"
      },
      "source": [
        "log_loss_min = 100\n",
        "curr_log_loss = 0\n",
        "best_accuracy = 0\n",
        "curr_accuracy = 0\n",
        "best_n = 0\n",
        "\n",
        "plot_points = [] #Para despues hacer el grafico de K vs LogLoss\n",
        "\n",
        "model = KNeighborsClassifier()\n",
        "best_model = model #Creo este aux para despues hacer las predicciones, ya que sino model queda con el ultimo i\n",
        "\n",
        "for n in range(2,100):\n",
        "  print(\"n =\", n)\n",
        "  model = KNeighborsClassifier(n_neighbors=n)\n",
        "  model.fit(X_train,y_train)\n",
        "  y_pred = model.predict_proba(X_test)\n",
        "  curr_log_loss = metrics.log_loss(y_test, y_pred)\n",
        "  plot_points.append(curr_log_loss)\n",
        "  print(curr_log_loss)\n",
        "  if (curr_log_loss < log_loss_min):\n",
        "        log_loss_min = curr_log_loss\n",
        "        best_n = n\n",
        "        best_model = model\n",
        "\n",
        "\n",
        "print(best_n, log_loss_min)"
      ],
      "execution_count": 9,
      "outputs": [
        {
          "output_type": "stream",
          "text": [
            "n = 2\n",
            "4.391915325426601\n",
            "n = 3\n",
            "3.189323200470747\n",
            "n = 4\n",
            "1.9208512246147942\n",
            "n = 5\n",
            "1.457225059047875\n",
            "n = 6\n",
            "1.057644767661353\n",
            "n = 7\n",
            "0.9912451139293146\n",
            "n = 8\n",
            "0.8561105622963601\n",
            "n = 9\n",
            "0.7895189937105027\n",
            "n = 10\n",
            "0.6612592269002951\n",
            "n = 11\n",
            "0.6675515273786352\n",
            "n = 12\n",
            "0.5398495511698373\n",
            "n = 13\n",
            "0.47428173940551627\n",
            "n = 14\n",
            "0.4830507194474774\n",
            "n = 15\n",
            "0.48523202141921373\n",
            "n = 16\n",
            "0.4241717368938433\n",
            "n = 17\n",
            "0.4291565016592444\n",
            "n = 18\n",
            "0.4343305369877561\n",
            "n = 19\n",
            "0.43788447218868853\n",
            "n = 20\n",
            "0.44011636384431085\n",
            "n = 21\n",
            "0.4385851017664061\n",
            "n = 22\n",
            "0.44073278205343447\n",
            "n = 23\n",
            "0.44121006456321527\n",
            "n = 24\n",
            "0.4418846514793777\n",
            "n = 25\n",
            "0.44723499742556727\n",
            "n = 26\n",
            "0.44458118896427007\n",
            "n = 27\n",
            "0.44610378626562613\n",
            "n = 28\n",
            "0.44743749499577173\n",
            "n = 29\n",
            "0.4480702517274216\n",
            "n = 30\n",
            "0.44560281152155434\n",
            "n = 31\n",
            "0.44631344675022144\n",
            "n = 32\n",
            "0.4451759706392296\n",
            "n = 33\n",
            "0.4453772823444469\n",
            "n = 34\n",
            "0.445255719592184\n",
            "n = 35\n",
            "0.446972958525115\n",
            "n = 36\n",
            "0.44750591459306965\n",
            "n = 37\n",
            "0.44798586307832494\n",
            "n = 38\n",
            "0.44840367549502935\n",
            "n = 39\n",
            "0.45024204591871503\n",
            "n = 40\n",
            "0.45173833742265773\n",
            "n = 41\n",
            "0.45320303528525846\n",
            "n = 42\n",
            "0.4539235419736977\n",
            "n = 43\n",
            "0.455568056911211\n",
            "n = 44\n",
            "0.45689823808088836\n",
            "n = 45\n",
            "0.4573218770032773\n",
            "n = 46\n",
            "0.45768103250219466\n",
            "n = 47\n",
            "0.4580188603445519\n",
            "n = 48\n",
            "0.45989921271013984\n",
            "n = 49\n",
            "0.459676136269424\n",
            "n = 50\n",
            "0.4604437494043056\n",
            "n = 51\n",
            "0.46172588925770613\n",
            "n = 52\n",
            "0.4631157526578481\n",
            "n = 53\n",
            "0.4630435763831023\n",
            "n = 54\n",
            "0.4639058197283996\n",
            "n = 55\n",
            "0.4629566850941102\n",
            "n = 56\n",
            "0.46259074848186527\n",
            "n = 57\n",
            "0.46358966017017345\n",
            "n = 58\n",
            "0.46405594238902803\n",
            "n = 59\n",
            "0.4634474126198564\n",
            "n = 60\n",
            "0.4633299707610842\n",
            "n = 61\n",
            "0.4635155374675432\n",
            "n = 62\n",
            "0.4642490410017255\n",
            "n = 63\n",
            "0.46546094110596636\n",
            "n = 64\n",
            "0.46652505904399927\n",
            "n = 65\n",
            "0.4665461724331125\n",
            "n = 66\n",
            "0.4668453281125499\n",
            "n = 67\n",
            "0.46706708300936445\n",
            "n = 68\n",
            "0.46708762090188954\n",
            "n = 69\n",
            "0.4674495342277323\n",
            "n = 70\n",
            "0.4687453504938949\n",
            "n = 71\n",
            "0.46966617142568456\n",
            "n = 72\n",
            "0.47023338653730107\n",
            "n = 73\n",
            "0.47005577818389266\n",
            "n = 74\n",
            "0.46997418707176547\n",
            "n = 75\n",
            "0.4705317584162329\n",
            "n = 76\n",
            "0.47131471901694133\n",
            "n = 77\n",
            "0.4712838147578304\n",
            "n = 78\n",
            "0.4709190872145719\n",
            "n = 79\n",
            "0.471755596283799\n",
            "n = 80\n",
            "0.47200996493768876\n",
            "n = 81\n",
            "0.47260106027294163\n",
            "n = 82\n",
            "0.47316411804166486\n",
            "n = 83\n",
            "0.4743367315077271\n",
            "n = 84\n",
            "0.47426623906752924\n",
            "n = 85\n",
            "0.47402288280348825\n",
            "n = 86\n",
            "0.4747899014354455\n",
            "n = 87\n",
            "0.47508860739864434\n",
            "n = 88\n",
            "0.47551664760451595\n",
            "n = 89\n",
            "0.47478534075776585\n",
            "n = 90\n",
            "0.4746617595573062\n",
            "n = 91\n",
            "0.4752685321520629\n",
            "n = 92\n",
            "0.4754855145026189\n",
            "n = 93\n",
            "0.47581693425951455\n",
            "n = 94\n",
            "0.47549310513729803\n",
            "n = 95\n",
            "0.47585130929291425\n",
            "n = 96\n",
            "0.476342933096517\n",
            "n = 97\n",
            "0.4764093715358116\n",
            "n = 98\n",
            "0.47682032682463615\n",
            "n = 99\n",
            "0.47732839522584386\n",
            "16 0.4241717368938433\n"
          ],
          "name": "stdout"
        }
      ]
    },
    {
      "cell_type": "code",
      "metadata": {
        "colab": {
          "base_uri": "https://localhost:8080/",
          "height": 404
        },
        "id": "TOnBN2s9h2he",
        "outputId": "c7608999-9001-4fd8-b7be-e7b7e56a0da7"
      },
      "source": [
        "#Grafico de K vs LogLoss\r\n",
        "\r\n",
        "plt.figure(figsize=(12, 6))\r\n",
        "plt.xticks(range(2,101,5))\r\n",
        "plt.ylim(log_loss_min - 0.05,1)\r\n",
        "plt.xlim(2,100)\r\n",
        "plt.plot(range(2, 100), plot_points, color='red', linestyle='dashed', marker='o', markerfacecolor='blue', markersize=10)\r\n",
        "plt.title('Log Loss vs K Neighbours')\r\n",
        "plt.xlabel('K')\r\n",
        "plt.ylabel('Log Loss')\r\n",
        "plt.savefig(\"k vs logloss\")"
      ],
      "execution_count": 10,
      "outputs": [
        {
          "output_type": "display_data",
          "data": {
            "image/png": "[encoded data removed]",
            "text/plain": [
              "<Figure size 864x432 with 1 Axes>"
            ]
          },
          "metadata": {
            "tags": [],
            "needs_background": "light"
          }
        }
      ]
    },
    {
      "cell_type": "code",
      "metadata": {
        "id": "Mtzjf93e3SZm",
        "colab": {
          "base_uri": "https://localhost:8080/"
        },
        "outputId": "9612c1fb-70cd-44a5-fe19-ece1640df328"
      },
      "source": [
        "#Aca empiezo a hacer las predicciones\r\n",
        "\r\n",
        "frio_test_df = pd.read_csv('Test_TP2_Datos_2020-2C.csv')\r\n",
        "frio_test_df['Stage'] = 'Closed Won' #Esto esta solo para que haga el preprocess, pero al final se dropea esta columna\r\n",
        "pred_df = frio_test_df[['Opportunity_ID']] #Esta columna la dropea el preprocesado sino\r\n",
        "pred_df.drop_duplicates(subset='Opportunity_ID', inplace=True)\r\n",
        "frio_test_df = preprocess_dataframe(frio_test_df)"
      ],
      "execution_count": 11,
      "outputs": [
        {
          "output_type": "stream",
          "text": [
            "/usr/local/lib/python3.7/dist-packages/ipykernel_launcher.py:6: SettingWithCopyWarning: \n",
            "A value is trying to be set on a copy of a slice from a DataFrame\n",
            "\n",
            "See the caveats in the documentation: https://pandas.pydata.org/pandas-docs/stable/user_guide/indexing.html#returning-a-view-versus-a-copy\n",
            "  \n"
          ],
          "name": "stderr"
        }
      ]
    },
    {
      "cell_type": "code",
      "metadata": {
        "id": "xLFcUT26ouNU"
      },
      "source": [
        "#Codifico las columnas categoricas\n",
        "\n",
        "for feature in categorical_columns:\n",
        "  le.fit(no_enc_df[feature])\n",
        "  frio_test_df[feature] = le.transform(frio_test_df[feature])"
      ],
      "execution_count": 12,
      "outputs": []
    },
    {
      "cell_type": "code",
      "metadata": {
        "id": "_YQqjCWjnux-"
      },
      "source": [
        "frio_test_df.drop(columns=[\"Stage\"],inplace=True)\n",
        "features = frio_test_df.values\n",
        "\n",
        "#Escalo todas las columnas.\n",
        "scaler.fit(features)\n",
        "features = scaler.transform(features)\n",
        "\n",
        "predictions = best_model.predict_proba(features)\n",
        "pred_df['Target'] = predictions[:,1]\n",
        "pred_df.to_csv('prediccionesFrioFrio.csv', index=False)"
      ],
      "execution_count": 13,
      "outputs": []
    },
    {
      "cell_type": "code",
      "metadata": {
        "id": "cjBPGiCTobZc",
        "colab": {
          "base_uri": "https://localhost:8080/"
        },
        "outputId": "c4ff3dab-ef7e-4398-b06e-7728118d41af"
      },
      "source": [
        "#Pruebo hacer el \"train\" sin train/test split\r\n",
        "\r\n",
        "df = pd.read_csv(\"Train_TP2_Datos_2020-2C.csv\") \r\n",
        "df = preprocess_dataframe(df)\r\n",
        "\r\n",
        "for feature in categorical_columns:\r\n",
        "  le.fit(df[feature])\r\n",
        "  df[feature] = le.transform(df[feature])"
      ],
      "execution_count": 14,
      "outputs": [
        {
          "output_type": "stream",
          "text": [
            "/usr/local/lib/python3.7/dist-packages/pandas/core/series.py:4582: SettingWithCopyWarning: \n",
            "A value is trying to be set on a copy of a slice from a DataFrame\n",
            "\n",
            "See the caveats in the documentation: https://pandas.pydata.org/pandas-docs/stable/user_guide/indexing.html#returning-a-view-versus-a-copy\n",
            "  method=method,\n",
            "/usr/local/lib/python3.7/dist-packages/pandas/core/indexing.py:1743: SettingWithCopyWarning: \n",
            "A value is trying to be set on a copy of a slice from a DataFrame.\n",
            "Try using .loc[row_indexer,col_indexer] = value instead\n",
            "\n",
            "See the caveats in the documentation: https://pandas.pydata.org/pandas-docs/stable/user_guide/indexing.html#returning-a-view-versus-a-copy\n",
            "  isetter(ilocs[0], value)\n"
          ],
          "name": "stderr"
        }
      ]
    },
    {
      "cell_type": "code",
      "metadata": {
        "id": "X4eBIsQunnAc",
        "colab": {
          "base_uri": "https://localhost:8080/"
        },
        "outputId": "12640c15-e972-4fbc-924b-c123c96b34c3"
      },
      "source": [
        "target = df[\"Stage\"].copy()\n",
        "df.drop(columns=[\"Stage\"],inplace=True)\n",
        "features = df.values\n",
        "\n",
        "scaler = StandardScaler()\n",
        "scaler.fit(features)\n",
        "features = scaler.transform(features)\n",
        "\n",
        "best_model.fit(features,target)#Uso la cantidad de vecinos que dio mejor LogLoss"
      ],
      "execution_count": 15,
      "outputs": [
        {
          "output_type": "execute_result",
          "data": {
            "text/plain": [
              "KNeighborsClassifier(algorithm='auto', leaf_size=30, metric='minkowski',\n",
              "                     metric_params=None, n_jobs=None, n_neighbors=16, p=2,\n",
              "                     weights='uniform')"
            ]
          },
          "metadata": {
            "tags": []
          },
          "execution_count": 15
        }
      ]
    },
    {
      "cell_type": "code",
      "metadata": {
        "id": "3mX3PxCLtIlA"
      },
      "source": [
        "test_features = frio_test_df.values\n",
        "\n",
        "scaler = StandardScaler()\n",
        "scaler.fit(test_features)\n",
        "test_features = scaler.transform(test_features)\n",
        "\n",
        "predictions = best_model.predict_proba(test_features)\n",
        "\n",
        "pred_df['Target'] = predictions[:,1]\n",
        "\n",
        "pred_df.to_csv('prediccionesFrioFrioSinTest.csv', index=False)"
      ],
      "execution_count": 16,
      "outputs": []
    }
  ]
}