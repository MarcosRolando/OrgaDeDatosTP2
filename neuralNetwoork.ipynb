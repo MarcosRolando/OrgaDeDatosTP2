{
  "nbformat": 4,
  "nbformat_minor": 0,
  "metadata": {
    "colab": {
      "name": "neuralNetwoork.ipynb",
      "provenance": [],
      "collapsed_sections": [],
      "include_colab_link": true
    },
    "kernelspec": {
      "name": "python3",
      "display_name": "Python 3"
    },
    "accelerator": "GPU"
  },
  "cells": [
    {
      "cell_type": "markdown",
      "metadata": {
        "id": "view-in-github",
        "colab_type": "text"
      },
      "source": [
        "<a href=\"https://colab.research.google.com/github/MarcosRolando/OrgaDeDatosTP2/blob/main/neuralNetwoork.ipynb\" target=\"_parent\"><img src=\"https://colab.research.google.com/assets/colab-badge.svg\" alt=\"Open In Colab\"/></a>"
      ]
    },
    {
      "cell_type": "code",
      "metadata": {
        "id": "RGS8tOq2uIJn"
      },
      "source": [
        "import tensorflow as tf\r\n",
        "import pandas as pd\r\n",
        "import numpy as np\r\n",
        "from tensorflow import feature_column\r\n"
      ],
      "execution_count": 1,
      "outputs": []
    },
    {
      "cell_type": "code",
      "metadata": {
        "id": "QxVjrxBo5slK",
        "colab": {
          "base_uri": "https://localhost:8080/"
        },
        "outputId": "be2f635e-b312-418a-fe90-686c5e3eca3e"
      },
      "source": [
        "df = pd.read_csv('/content/Train_TP2_Datos_2020-2C.csv')\r\n",
        "df = df[df['Stage'].isin(['Closed Won', 'Closed Lost'])]\r\n",
        "df.loc[:, 'Stage'].replace({'Closed Won':1, 'Closed Lost':0}, inplace=True) #0 corresponde a que el caso fue Closed Lost, 1 a que fue Closed Won. Asi tenemos un problema de clasificacion binario que puede entender la red neuronal.\r\n",
        "\r\n",
        "#Borro columnas que tengan el mismo dato en todas las entradas, o inconsecuentes como el ID / Opportunity_ID\r\n",
        "#TODO: Analizar si el Sales_Contract_No no es que importe el numero en si, sino si tiene\r\n",
        "#o no tiene numero de contrato. Por ahora no lo meto como input.\r\n",
        "#TODO: Ver el mismo tema con la columna 'Price', la mayoria tiene None u Other\r\n",
        "#y solo unos pocos tienen precio numerico. Quiza importe que tenga precio o no tenga,\r\n",
        "#o si no tiene precio quiza importe si es None u Other. Por ahora no lo pongo\r\n",
        "#como input.\r\n",
        "df.drop(columns=['Submitted_for_Approval', 'Last_Activity', 'ASP_(converted)_Currency', \r\n",
        "                 'Prod_Category_A', 'ID', 'Opportunity_ID', 'Sales_Contract_No',\r\n",
        "                 'Price'],inplace=True)\r\n",
        "\r\n",
        "#Renombramos las columnas que tienen caracteres que TensorFlow no acepta como validos.\r\n",
        "#Estos particularmente son whitespace, coma y parentesis por ejemplo.\r\n",
        "df.rename(columns={'ASP_(converted)':'ASP_converted','Pricing, Delivery_Terms_Quote_Appr':\r\n",
        "                   'Pricing_Delivery_Terms_Quote_Appr','Pricing, Delivery_Terms_Approved':\r\n",
        "                   'Pricing_Delivery_Terms_Approved','Source ':'Source'},inplace=True)\r\n",
        "\r\n",
        "#Columnas que consideramos numericas\r\n",
        "numeric_columns = ['Pricing_Delivery_Terms_Quote_Appr','Pricing_Delivery_Terms_Approved',\r\n",
        "                     'Bureaucratic_Code_0_Approval','Bureaucratic_Code_0_Approved',\r\n",
        "                     'ASP','ASP_converted','TRF','Total_Amount','Total_Taxable_Amount']\r\n",
        "\r\n",
        "#Columnas que consideramos categoricas de pocos valores posibles\r\n",
        "indicator_columns = ['Region','Territory','Bureaucratic_Code','Source',\r\n",
        "                       'Billing_Country','Account_Name','Opportunity_Name',\r\n",
        "                       'Account_Owner','Opportunity_Owner','Account_Type',\r\n",
        "                       'Opportunity_Type','Quote_Type','Delivery_Terms',\r\n",
        "                       'Brand','Product_Type','Size','Product_Category_B',\r\n",
        "                       'Currency','Last_Modified_By','Product_Family',\r\n",
        "                       'Product_Name','ASP_Currency','Total_Amount_Currency',\r\n",
        "                       'Total_Taxable_Amount_Currency']\r\n",
        "\r\n",
        "#Drope columnas que vamos a usar pero por ahora no las uso\r\n",
        "df.drop(columns=['Account_Created_Date','Opportunity_Created_Date',\r\n",
        "                 'Quote_Expiry_Date','Last_Modified_Date',\r\n",
        "                 'Planned_Delivery_Start_Date','Planned_Delivery_End_Date',\r\n",
        "                 'Month','Delivery_Quarter', 'Delivery_Year', 'Actual_Delivery_Date'],inplace=True)\r\n",
        "\r\n",
        "df.columns\r\n",
        "\r\n",
        "#Debemos separar algunos de los registros para armar un set de test propio (no el de la catedra). De esta forma sabremos rapidamente\r\n",
        "#si nuestro modelo esta dando resultados optimos o no sin necesidad de estar subiendo el TP a Kaggle constantemente.\r\n",
        "#Sin embargo, no queremos usar tantos registros ya que estariamos disminuyendo el set de entrenamiento considerablemente.\r\n",
        "#Podemos empezar reservando 2000 registros para el test de prueba y ver que onda. Pasariamos de tener 16 mil a 14 mil \r\n",
        "#registros para el set de entrenamiento, no es una perdida importantisima creo en principio, asi que arrancamos con eso.\r\n",
        "\r\n",
        "#Por otro lado, nuestro test de prueba deberia tener un 50 50 de Closed Won y Closed Lost, por lo que no podemos elegir asi nomas\r\n",
        "#al azar.\r\n",
        "\r\n",
        "#TODO: DEJO COMO TAREA ARMAR EL SET DE PRUEBA, POR AHORA SOLO NOS PREOCUPAMOS DE LOGRAR HACER ANDAR LA RED NEURONAL."
      ],
      "execution_count": 2,
      "outputs": [
        {
          "output_type": "execute_result",
          "data": {
            "text/plain": [
              "Index(['Region', 'Territory', 'Pricing_Delivery_Terms_Quote_Appr',\n",
              "       'Pricing_Delivery_Terms_Approved', 'Bureaucratic_Code_0_Approval',\n",
              "       'Bureaucratic_Code_0_Approved', 'Bureaucratic_Code', 'Source',\n",
              "       'Billing_Country', 'Account_Name', 'Opportunity_Name', 'Account_Owner',\n",
              "       'Opportunity_Owner', 'Account_Type', 'Opportunity_Type', 'Quote_Type',\n",
              "       'Delivery_Terms', 'Brand', 'Product_Type', 'Size', 'Product_Category_B',\n",
              "       'Currency', 'Last_Modified_By', 'Product_Family', 'Product_Name',\n",
              "       'ASP_Currency', 'ASP', 'ASP_converted', 'TRF', 'Total_Amount_Currency',\n",
              "       'Total_Amount', 'Total_Taxable_Amount_Currency', 'Total_Taxable_Amount',\n",
              "       'Stage'],\n",
              "      dtype='object')"
            ]
          },
          "metadata": {
            "tags": []
          },
          "execution_count": 2
        }
      ]
    },
    {
      "cell_type": "code",
      "metadata": {
        "id": "fjY1dvgAdSzw"
      },
      "source": [
        "# Metodo que pasa de DataFrame de Pandas a un DataSet de TensorFlow\r\n",
        "def df_to_dataset(dataframe, shuffle=True, batch_size=32):\r\n",
        "  dataframe = dataframe.copy()\r\n",
        "  labels = dataframe.pop('Stage') #Retorna la columna Stage, eliminandolo simultaneamente del DataFrame. 'Stage' seria nuestra columna 'target', es decir, lo que queremos predecir.\r\n",
        "  ds = tf.data.Dataset.from_tensor_slices((dict(dataframe), labels)) #Crea un DataSet cuyos elementos son slices de los tensores pasados a la funcion. Ver documentacion oficial para comprender bien.\r\n",
        "  #En pocas palabras, le pasamos las columnas con los datos como diccionario (estilo 'columna':[dato1,dato2,dato3]) y una lista con los resultados estilo [resu1,resu2,resu3].\r\n",
        "  #Se genera un DataSet del estilo [('columna':[dato1,dato2,dato3], [resu1, resu2, resu3])].\r\n",
        "  #En realidad 'columna' es una lista de todas las columnas con sus correspondientes datos, pero se entiende la idea creo.\r\n",
        "  if shuffle:\r\n",
        "    ds = ds.shuffle(buffer_size=len(dataframe)) #Al tener el buffer_size del mismo tamanio que la cantidad de datos del dataset, tenemos perfect shuffling (ver documentacion para comprender).\r\n",
        "    #Basicamente mezlcamos el dataset para que luego los batches que se armen contengan distintos elementos si lo entrenamos distintas veces.\r\n",
        "  ds = ds.batch(batch_size) #Arma batches de tamanio batch_size entre elementos consecutivos del DataSet.\r\n",
        "  return ds"
      ],
      "execution_count": 3,
      "outputs": []
    },
    {
      "cell_type": "code",
      "metadata": {
        "id": "dmaiJcl39e7X"
      },
      "source": [
        "#Arma las features, asignando las columnas del DataFrame segun corresponda al tipo de feature\r\n",
        "#(numerico, categorico, etc). Entiendase por feature a las columnas del DataFrame.\r\n",
        "def set_up_feature_columns(dataframe, numeric_columns, indicator_columns):\r\n",
        "  features = []\r\n",
        "\r\n",
        "  #numeric features\r\n",
        "  for column_name in numeric_columns:\r\n",
        "    features.append(feature_column.numeric_column(column_name))\r\n",
        "\r\n",
        "  # indicator_columns (one-hot value vector, para aquellas columnas categoricas de pocas opciones)\r\n",
        "  for column_name in indicator_columns:\r\n",
        "    categorical_column = feature_column.categorical_column_with_vocabulary_list(\r\n",
        "                                          column_name, dataframe[column_name].unique())\r\n",
        "    indicator_column = feature_column.embedding_column(categorical_column, dimension=8)\r\n",
        "    features.append(indicator_column)\r\n",
        "\r\n",
        "  return features"
      ],
      "execution_count": 4,
      "outputs": []
    },
    {
      "cell_type": "code",
      "metadata": {
        "id": "7bTkNirdLlCr"
      },
      "source": [
        "  features = set_up_feature_columns(df,numeric_columns,indicator_columns)\r\n",
        "  feature_layer = tf.keras.layers.DenseFeatures(features)\r\n",
        "  ds = df_to_dataset(df,batch_size=32)"
      ],
      "execution_count": 5,
      "outputs": []
    },
    {
      "cell_type": "code",
      "metadata": {
        "colab": {
          "base_uri": "https://localhost:8080/"
        },
        "id": "JgXH6i3kL9ZN",
        "outputId": "42efc607-76a1-4e7e-c01c-3517e8c8069c"
      },
      "source": [
        "model = tf.keras.Sequential([\r\n",
        "  feature_layer,\r\n",
        "  tf.keras.layers.Dense(3000, activation='sigmoid'),\r\n",
        "  tf.keras.layers.Dense(1000, activation='relu'),\r\n",
        "  tf.keras.layers.Dropout(0.2),\r\n",
        "  tf.keras.layers.Dense(1)\r\n",
        "])\r\n",
        "\r\n",
        "model.compile(optimizer='adam',\r\n",
        "              loss=tf.keras.losses.BinaryCrossentropy(),\r\n",
        "              metrics=['accuracy'])\r\n",
        "\r\n",
        "#Ignoren el WARNING, esta en la documentacion tambien. Nadie le da bola en StackOverflow xd.\r\n",
        "model.fit(ds,epochs=10)"
      ],
      "execution_count": 6,
      "outputs": [
        {
          "output_type": "stream",
          "text": [
            "Epoch 1/10\n",
            "WARNING:tensorflow:Layers in a Sequential model should only have a single input tensor, but we receive a <class 'dict'> input: {'Region': <tf.Tensor 'ExpandDims_24:0' shape=(None, 1) dtype=string>, 'Territory': <tf.Tensor 'ExpandDims_28:0' shape=(None, 1) dtype=string>, 'Pricing_Delivery_Terms_Quote_Appr': <tf.Tensor 'ExpandDims_18:0' shape=(None, 1) dtype=int64>, 'Pricing_Delivery_Terms_Approved': <tf.Tensor 'ExpandDims_17:0' shape=(None, 1) dtype=int64>, 'Bureaucratic_Code_0_Approval': <tf.Tensor 'ExpandDims_9:0' shape=(None, 1) dtype=int64>, 'Bureaucratic_Code_0_Approved': <tf.Tensor 'ExpandDims_10:0' shape=(None, 1) dtype=int64>, 'Bureaucratic_Code': <tf.Tensor 'ExpandDims_8:0' shape=(None, 1) dtype=string>, 'Source': <tf.Tensor 'ExpandDims_26:0' shape=(None, 1) dtype=string>, 'Billing_Country': <tf.Tensor 'ExpandDims_6:0' shape=(None, 1) dtype=string>, 'Account_Name': <tf.Tensor 'ExpandDims_3:0' shape=(None, 1) dtype=string>, 'Opportunity_Name': <tf.Tensor 'ExpandDims_14:0' shape=(None, 1) dtype=string>, 'Account_Owner': <tf.Tensor 'ExpandDims_4:0' shape=(None, 1) dtype=string>, 'Opportunity_Owner': <tf.Tensor 'ExpandDims_15:0' shape=(None, 1) dtype=string>, 'Account_Type': <tf.Tensor 'ExpandDims_5:0' shape=(None, 1) dtype=string>, 'Opportunity_Type': <tf.Tensor 'ExpandDims_16:0' shape=(None, 1) dtype=string>, 'Quote_Type': <tf.Tensor 'ExpandDims_23:0' shape=(None, 1) dtype=string>, 'Delivery_Terms': <tf.Tensor 'ExpandDims_12:0' shape=(None, 1) dtype=string>, 'Brand': <tf.Tensor 'ExpandDims_7:0' shape=(None, 1) dtype=string>, 'Product_Type': <tf.Tensor 'ExpandDims_22:0' shape=(None, 1) dtype=string>, 'Size': <tf.Tensor 'ExpandDims_25:0' shape=(None, 1) dtype=string>, 'Product_Category_B': <tf.Tensor 'ExpandDims_19:0' shape=(None, 1) dtype=string>, 'Currency': <tf.Tensor 'ExpandDims_11:0' shape=(None, 1) dtype=string>, 'Last_Modified_By': <tf.Tensor 'ExpandDims_13:0' shape=(None, 1) dtype=string>, 'Product_Family': <tf.Tensor 'ExpandDims_20:0' shape=(None, 1) dtype=string>, 'Product_Name': <tf.Tensor 'ExpandDims_21:0' shape=(None, 1) dtype=string>, 'ASP_Currency': <tf.Tensor 'ExpandDims_1:0' shape=(None, 1) dtype=string>, 'ASP': <tf.Tensor 'ExpandDims:0' shape=(None, 1) dtype=float64>, 'ASP_converted': <tf.Tensor 'ExpandDims_2:0' shape=(None, 1) dtype=float64>, 'TRF': <tf.Tensor 'ExpandDims_27:0' shape=(None, 1) dtype=int64>, 'Total_Amount_Currency': <tf.Tensor 'ExpandDims_30:0' shape=(None, 1) dtype=string>, 'Total_Amount': <tf.Tensor 'ExpandDims_29:0' shape=(None, 1) dtype=float64>, 'Total_Taxable_Amount_Currency': <tf.Tensor 'ExpandDims_32:0' shape=(None, 1) dtype=string>, 'Total_Taxable_Amount': <tf.Tensor 'ExpandDims_31:0' shape=(None, 1) dtype=float64>}\n",
            "Consider rewriting this model with the Functional API.\n",
            "WARNING:tensorflow:Layers in a Sequential model should only have a single input tensor, but we receive a <class 'dict'> input: {'Region': <tf.Tensor 'ExpandDims_24:0' shape=(None, 1) dtype=string>, 'Territory': <tf.Tensor 'ExpandDims_28:0' shape=(None, 1) dtype=string>, 'Pricing_Delivery_Terms_Quote_Appr': <tf.Tensor 'ExpandDims_18:0' shape=(None, 1) dtype=int64>, 'Pricing_Delivery_Terms_Approved': <tf.Tensor 'ExpandDims_17:0' shape=(None, 1) dtype=int64>, 'Bureaucratic_Code_0_Approval': <tf.Tensor 'ExpandDims_9:0' shape=(None, 1) dtype=int64>, 'Bureaucratic_Code_0_Approved': <tf.Tensor 'ExpandDims_10:0' shape=(None, 1) dtype=int64>, 'Bureaucratic_Code': <tf.Tensor 'ExpandDims_8:0' shape=(None, 1) dtype=string>, 'Source': <tf.Tensor 'ExpandDims_26:0' shape=(None, 1) dtype=string>, 'Billing_Country': <tf.Tensor 'ExpandDims_6:0' shape=(None, 1) dtype=string>, 'Account_Name': <tf.Tensor 'ExpandDims_3:0' shape=(None, 1) dtype=string>, 'Opportunity_Name': <tf.Tensor 'ExpandDims_14:0' shape=(None, 1) dtype=string>, 'Account_Owner': <tf.Tensor 'ExpandDims_4:0' shape=(None, 1) dtype=string>, 'Opportunity_Owner': <tf.Tensor 'ExpandDims_15:0' shape=(None, 1) dtype=string>, 'Account_Type': <tf.Tensor 'ExpandDims_5:0' shape=(None, 1) dtype=string>, 'Opportunity_Type': <tf.Tensor 'ExpandDims_16:0' shape=(None, 1) dtype=string>, 'Quote_Type': <tf.Tensor 'ExpandDims_23:0' shape=(None, 1) dtype=string>, 'Delivery_Terms': <tf.Tensor 'ExpandDims_12:0' shape=(None, 1) dtype=string>, 'Brand': <tf.Tensor 'ExpandDims_7:0' shape=(None, 1) dtype=string>, 'Product_Type': <tf.Tensor 'ExpandDims_22:0' shape=(None, 1) dtype=string>, 'Size': <tf.Tensor 'ExpandDims_25:0' shape=(None, 1) dtype=string>, 'Product_Category_B': <tf.Tensor 'ExpandDims_19:0' shape=(None, 1) dtype=string>, 'Currency': <tf.Tensor 'ExpandDims_11:0' shape=(None, 1) dtype=string>, 'Last_Modified_By': <tf.Tensor 'ExpandDims_13:0' shape=(None, 1) dtype=string>, 'Product_Family': <tf.Tensor 'ExpandDims_20:0' shape=(None, 1) dtype=string>, 'Product_Name': <tf.Tensor 'ExpandDims_21:0' shape=(None, 1) dtype=string>, 'ASP_Currency': <tf.Tensor 'ExpandDims_1:0' shape=(None, 1) dtype=string>, 'ASP': <tf.Tensor 'ExpandDims:0' shape=(None, 1) dtype=float64>, 'ASP_converted': <tf.Tensor 'ExpandDims_2:0' shape=(None, 1) dtype=float64>, 'TRF': <tf.Tensor 'ExpandDims_27:0' shape=(None, 1) dtype=int64>, 'Total_Amount_Currency': <tf.Tensor 'ExpandDims_30:0' shape=(None, 1) dtype=string>, 'Total_Amount': <tf.Tensor 'ExpandDims_29:0' shape=(None, 1) dtype=float64>, 'Total_Taxable_Amount_Currency': <tf.Tensor 'ExpandDims_32:0' shape=(None, 1) dtype=string>, 'Total_Taxable_Amount': <tf.Tensor 'ExpandDims_31:0' shape=(None, 1) dtype=float64>}\n",
            "Consider rewriting this model with the Functional API.\n",
            "528/528 [==============================] - 24s 34ms/step - loss: 2.0075 - accuracy: 0.4396\n",
            "Epoch 2/10\n",
            "528/528 [==============================] - 18s 34ms/step - loss: 1.1534 - accuracy: 0.4466\n",
            "Epoch 3/10\n",
            "528/528 [==============================] - 18s 34ms/step - loss: 0.9658 - accuracy: 0.4334\n",
            "Epoch 4/10\n",
            "528/528 [==============================] - 18s 34ms/step - loss: 0.8459 - accuracy: 0.4354\n",
            "Epoch 5/10\n",
            "528/528 [==============================] - 18s 34ms/step - loss: 0.7727 - accuracy: 0.4360\n",
            "Epoch 6/10\n",
            "528/528 [==============================] - 18s 35ms/step - loss: 0.7301 - accuracy: 0.4304\n",
            "Epoch 7/10\n",
            "528/528 [==============================] - 19s 36ms/step - loss: 0.7031 - accuracy: 0.4345\n",
            "Epoch 8/10\n",
            "528/528 [==============================] - 20s 37ms/step - loss: 0.6905 - accuracy: 0.5715\n",
            "Epoch 9/10\n",
            "528/528 [==============================] - 19s 36ms/step - loss: 0.6865 - accuracy: 0.5626\n",
            "Epoch 10/10\n",
            "528/528 [==============================] - 19s 36ms/step - loss: 0.6840 - accuracy: 0.5695\n"
          ],
          "name": "stdout"
        },
        {
          "output_type": "execute_result",
          "data": {
            "text/plain": [
              "<tensorflow.python.keras.callbacks.History at 0x7ff9a7127a90>"
            ]
          },
          "metadata": {
            "tags": []
          },
          "execution_count": 6
        }
      ]
    },
    {
      "cell_type": "code",
      "metadata": {
        "colab": {
          "base_uri": "https://localhost:8080/"
        },
        "id": "3SDVpkRXMmLD",
        "outputId": "aa980f91-6dd7-423e-8ff7-20a0e1227ca0"
      },
      "source": [
        "loss, accuracy = model.evaluate(ds)\r\n",
        "print(\"Accuracy\", accuracy)"
      ],
      "execution_count": 7,
      "outputs": [
        {
          "output_type": "stream",
          "text": [
            "WARNING:tensorflow:Layers in a Sequential model should only have a single input tensor, but we receive a <class 'dict'> input: {'Region': <tf.Tensor 'ExpandDims_24:0' shape=(None, 1) dtype=string>, 'Territory': <tf.Tensor 'ExpandDims_28:0' shape=(None, 1) dtype=string>, 'Pricing_Delivery_Terms_Quote_Appr': <tf.Tensor 'ExpandDims_18:0' shape=(None, 1) dtype=int64>, 'Pricing_Delivery_Terms_Approved': <tf.Tensor 'ExpandDims_17:0' shape=(None, 1) dtype=int64>, 'Bureaucratic_Code_0_Approval': <tf.Tensor 'ExpandDims_9:0' shape=(None, 1) dtype=int64>, 'Bureaucratic_Code_0_Approved': <tf.Tensor 'ExpandDims_10:0' shape=(None, 1) dtype=int64>, 'Bureaucratic_Code': <tf.Tensor 'ExpandDims_8:0' shape=(None, 1) dtype=string>, 'Source': <tf.Tensor 'ExpandDims_26:0' shape=(None, 1) dtype=string>, 'Billing_Country': <tf.Tensor 'ExpandDims_6:0' shape=(None, 1) dtype=string>, 'Account_Name': <tf.Tensor 'ExpandDims_3:0' shape=(None, 1) dtype=string>, 'Opportunity_Name': <tf.Tensor 'ExpandDims_14:0' shape=(None, 1) dtype=string>, 'Account_Owner': <tf.Tensor 'ExpandDims_4:0' shape=(None, 1) dtype=string>, 'Opportunity_Owner': <tf.Tensor 'ExpandDims_15:0' shape=(None, 1) dtype=string>, 'Account_Type': <tf.Tensor 'ExpandDims_5:0' shape=(None, 1) dtype=string>, 'Opportunity_Type': <tf.Tensor 'ExpandDims_16:0' shape=(None, 1) dtype=string>, 'Quote_Type': <tf.Tensor 'ExpandDims_23:0' shape=(None, 1) dtype=string>, 'Delivery_Terms': <tf.Tensor 'ExpandDims_12:0' shape=(None, 1) dtype=string>, 'Brand': <tf.Tensor 'ExpandDims_7:0' shape=(None, 1) dtype=string>, 'Product_Type': <tf.Tensor 'ExpandDims_22:0' shape=(None, 1) dtype=string>, 'Size': <tf.Tensor 'ExpandDims_25:0' shape=(None, 1) dtype=string>, 'Product_Category_B': <tf.Tensor 'ExpandDims_19:0' shape=(None, 1) dtype=string>, 'Currency': <tf.Tensor 'ExpandDims_11:0' shape=(None, 1) dtype=string>, 'Last_Modified_By': <tf.Tensor 'ExpandDims_13:0' shape=(None, 1) dtype=string>, 'Product_Family': <tf.Tensor 'ExpandDims_20:0' shape=(None, 1) dtype=string>, 'Product_Name': <tf.Tensor 'ExpandDims_21:0' shape=(None, 1) dtype=string>, 'ASP_Currency': <tf.Tensor 'ExpandDims_1:0' shape=(None, 1) dtype=string>, 'ASP': <tf.Tensor 'ExpandDims:0' shape=(None, 1) dtype=float64>, 'ASP_converted': <tf.Tensor 'ExpandDims_2:0' shape=(None, 1) dtype=float64>, 'TRF': <tf.Tensor 'ExpandDims_27:0' shape=(None, 1) dtype=int64>, 'Total_Amount_Currency': <tf.Tensor 'ExpandDims_30:0' shape=(None, 1) dtype=string>, 'Total_Amount': <tf.Tensor 'ExpandDims_29:0' shape=(None, 1) dtype=float64>, 'Total_Taxable_Amount_Currency': <tf.Tensor 'ExpandDims_32:0' shape=(None, 1) dtype=string>, 'Total_Taxable_Amount': <tf.Tensor 'ExpandDims_31:0' shape=(None, 1) dtype=float64>}\n",
            "Consider rewriting this model with the Functional API.\n",
            "528/528 [==============================] - 15s 24ms/step - loss: 0.6848 - accuracy: 0.5647\n",
            "Accuracy 0.56465083360672\n"
          ],
          "name": "stdout"
        }
      ]
    }
  ]
}