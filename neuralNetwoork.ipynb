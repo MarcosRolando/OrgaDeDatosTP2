{
  "nbformat": 4,
  "nbformat_minor": 0,
  "metadata": {
    "colab": {
      "name": "neuralNetwoork.ipynb",
      "provenance": [],
      "collapsed_sections": [],
      "include_colab_link": true
    },
    "kernelspec": {
      "name": "python3",
      "display_name": "Python 3"
    },
    "accelerator": "GPU"
  },
  "cells": [
    {
      "cell_type": "markdown",
      "metadata": {
        "id": "view-in-github",
        "colab_type": "text"
      },
      "source": [
        "<a href=\"https://colab.research.google.com/github/MarcosRolando/OrgaDeDatosTP2/blob/main/neuralNetwoork.ipynb\" target=\"_parent\"><img src=\"https://colab.research.google.com/assets/colab-badge.svg\" alt=\"Open In Colab\"/></a>"
      ]
    },
    {
      "cell_type": "code",
      "metadata": {
        "id": "RGS8tOq2uIJn"
      },
      "source": [
        "import tensorflow as tf\r\n",
        "import pandas as pd\r\n",
        "import numpy as np\r\n",
        "from tensorflow import keras\r\n",
        "from tensorflow.keras import layers\r\n"
      ],
      "execution_count": null,
      "outputs": []
    },
    {
      "cell_type": "code",
      "metadata": {
        "id": "QxVjrxBo5slK"
      },
      "source": [
        "df = pd.read_csv('/content/Train_TP2_Datos_2020-2C.csv')\r\n",
        "df = df[df['Stage'].isin(['Closed Won', 'Closed Lost'])]\r\n",
        "df.loc[:, 'Stage'].replace({'Closed Won':1, 'Closed Lost':0}, inplace=True)\r\n",
        "results = df['Stage'].to_numpy()\r\n",
        "input = df['ASP_(converted)'].to_numpy()"
      ],
      "execution_count": null,
      "outputs": []
    },
    {
      "cell_type": "code",
      "metadata": {
        "id": "OW17Uz_m0jC7"
      },
      "source": [
        "mnist = tf.keras.datasets.mnist\r\n",
        "\r\n",
        "(x_train, y_train), (x_test, y_test) = mnist.load_data()\r\n",
        "x_train, x_test = x_train / 255.0, x_test / 255.0"
      ],
      "execution_count": null,
      "outputs": []
    },
    {
      "cell_type": "code",
      "metadata": {
        "id": "WpIQ9Be70kDU"
      },
      "source": [
        "model = tf.keras.models.Sequential([\r\n",
        "  #tf.keras.layers.Flatten(input_shape=(28, 28)),\r\n",
        "  tf.keras.layers.Flatten(input_shape=(1,1)),\r\n",
        "  tf.keras.layers.Dense(128, activation='relu'), #la funcion Dense genera una capa de neuronas nueva, en este caso de 128 neuronas con funcion de activacion ReLu\r\n",
        "  tf.keras.layers.Dropout(0.2), #la funcion Dropout especifica el rate de desactivacion de las neuronas, en este caso desactiva el 20% de las neuronas para evitar que se genere overfitting\r\n",
        "  tf.keras.layers.Dense(2) #output layer (not hidden)\r\n",
        "])"
      ],
      "execution_count": null,
      "outputs": []
    },
    {
      "cell_type": "code",
      "metadata": {
        "id": "gppnC5t_0l2K",
        "colab": {
          "base_uri": "https://localhost:8080/"
        },
        "outputId": "14efda06-8353-4f7e-8c1c-f3f9f93f1df0"
      },
      "source": [
        "#predictions = model(x_train[:1]).numpy()\r\n",
        "predictions = model(input).numpy()\r\n",
        "predictions"
      ],
      "execution_count": null,
      "outputs": [
        {
          "output_type": "execute_result",
          "data": {
            "text/plain": [
              "array([[0.0340301 , 0.03820564],\n",
              "       [0.03468448, 0.03894031],\n",
              "       [0.02777164, 0.03117925],\n",
              "       ...,\n",
              "       [0.0340301 , 0.03820564],\n",
              "       [0.03688423, 0.04140997],\n",
              "       [0.03702886, 0.04157235]], dtype=float32)"
            ]
          },
          "metadata": {
            "tags": []
          },
          "execution_count": 87
        }
      ]
    },
    {
      "cell_type": "code",
      "metadata": {
        "id": "WVScqM620nB-",
        "colab": {
          "base_uri": "https://localhost:8080/"
        },
        "outputId": "355db309-caf6-467e-a282-cb84899a8b16"
      },
      "source": [
        "tf.nn.softmax(predictions).numpy()"
      ],
      "execution_count": null,
      "outputs": [
        {
          "output_type": "execute_result",
          "data": {
            "text/plain": [
              "array([[0.49895608, 0.50104386],\n",
              "       [0.49893603, 0.50106394],\n",
              "       [0.49914807, 0.50085187],\n",
              "       ...,\n",
              "       [0.49895608, 0.50104386],\n",
              "       [0.49886855, 0.5011314 ],\n",
              "       [0.49886414, 0.5011359 ]], dtype=float32)"
            ]
          },
          "metadata": {
            "tags": []
          },
          "execution_count": 88
        }
      ]
    },
    {
      "cell_type": "code",
      "metadata": {
        "id": "hLxaShk_0n8O"
      },
      "source": [
        "loss_fn = tf.keras.losses.SparseCategoricalCrossentropy(from_logits=True) #aca definimos la funcion de loss, no es la nuestra la de esta linea asi que hay que MODIFICARLO PARA QUE SEA LA DEL TP"
      ],
      "execution_count": null,
      "outputs": []
    },
    {
      "cell_type": "code",
      "metadata": {
        "id": "PixAL5yQ0pRQ",
        "colab": {
          "base_uri": "https://localhost:8080/"
        },
        "outputId": "b616cf79-9e72-4343-8e3d-1e5787ce536b"
      },
      "source": [
        "#loss_fn(y_train[:1], predictions).numpy()\r\n",
        "loss_fn(results[1], predictions[1]).numpy() #esto calcula para cada elemento (el indice especifica cual de los 16800 no se cuantos elementos queres calcularle el loss)"
      ],
      "execution_count": null,
      "outputs": [
        {
          "output_type": "execute_result",
          "data": {
            "text/plain": [
              "0.69102156"
            ]
          },
          "metadata": {
            "tags": []
          },
          "execution_count": 90
        }
      ]
    },
    {
      "cell_type": "code",
      "metadata": {
        "id": "7pQLgkHh0pi7"
      },
      "source": [
        "model.compile(optimizer='adam',\r\n",
        "              loss=loss_fn,\r\n",
        "              metrics=['accuracy'])"
      ],
      "execution_count": null,
      "outputs": []
    },
    {
      "cell_type": "code",
      "metadata": {
        "id": "eYn59oAf0qoQ",
        "colab": {
          "base_uri": "https://localhost:8080/"
        },
        "outputId": "974e773c-f9ad-4f39-855e-21bb8f66288d"
      },
      "source": [
        "#model.fit(x_train, y_train, epochs=5)\r\n",
        "model.fit(input, results, epochs=10)"
      ],
      "execution_count": null,
      "outputs": [
        {
          "output_type": "stream",
          "text": [
            "Epoch 1/10\n",
            "528/528 [==============================] - 1s 2ms/step - loss: 0.6931 - accuracy: 0.5638\n",
            "Epoch 2/10\n",
            "528/528 [==============================] - 1s 2ms/step - loss: 0.6931 - accuracy: 0.5661\n",
            "Epoch 3/10\n",
            "528/528 [==============================] - 1s 2ms/step - loss: 0.6930 - accuracy: 0.5671\n",
            "Epoch 4/10\n",
            "528/528 [==============================] - 1s 2ms/step - loss: 0.6930 - accuracy: 0.5592\n",
            "Epoch 5/10\n",
            "528/528 [==============================] - 1s 2ms/step - loss: 0.6930 - accuracy: 0.5576\n",
            "Epoch 6/10\n",
            "528/528 [==============================] - 1s 2ms/step - loss: 0.6929 - accuracy: 0.5703\n",
            "Epoch 7/10\n",
            "528/528 [==============================] - 1s 2ms/step - loss: 0.6929 - accuracy: 0.5602\n",
            "Epoch 8/10\n",
            "528/528 [==============================] - 1s 2ms/step - loss: 0.6928 - accuracy: 0.5632\n",
            "Epoch 9/10\n",
            "528/528 [==============================] - 1s 2ms/step - loss: 0.6928 - accuracy: 0.5645\n",
            "Epoch 10/10\n",
            "528/528 [==============================] - 1s 2ms/step - loss: 0.6927 - accuracy: 0.5681\n"
          ],
          "name": "stdout"
        },
        {
          "output_type": "execute_result",
          "data": {
            "text/plain": [
              "<tensorflow.python.keras.callbacks.History at 0x7f7b544ffb70>"
            ]
          },
          "metadata": {
            "tags": []
          },
          "execution_count": 92
        }
      ]
    },
    {
      "cell_type": "code",
      "metadata": {
        "id": "qTh6RFOD0rtR",
        "colab": {
          "base_uri": "https://localhost:8080/"
        },
        "outputId": "14a1fbfc-85bc-4e05-daaf-895b56438169"
      },
      "source": [
        "#model.evaluate(x_test,  y_test, verbose=2)\r\n",
        "model.evaluate(input,  results, verbose=2)"
      ],
      "execution_count": null,
      "outputs": [
        {
          "output_type": "stream",
          "text": [
            "528/528 - 1s - loss: 0.6927 - accuracy: 0.5647\n"
          ],
          "name": "stdout"
        },
        {
          "output_type": "execute_result",
          "data": {
            "text/plain": [
              "[0.6926782131195068, 0.56465083360672]"
            ]
          },
          "metadata": {
            "tags": []
          },
          "execution_count": 93
        }
      ]
    },
    {
      "cell_type": "code",
      "metadata": {
        "id": "EilM72se0syh"
      },
      "source": [
        "probability_model = tf.keras.Sequential([\r\n",
        "  model,\r\n",
        "  tf.keras.layers.Softmax()\r\n",
        "])"
      ],
      "execution_count": null,
      "outputs": []
    },
    {
      "cell_type": "code",
      "metadata": {
        "id": "GTdDtbKw0trp",
        "colab": {
          "base_uri": "https://localhost:8080/"
        },
        "outputId": "6bd7f36c-a187-4f2d-a09e-a7207e0c329a"
      },
      "source": [
        "#probability_model(x_test[:5])\r\n",
        "probability_model(results)"
      ],
      "execution_count": null,
      "outputs": [
        {
          "output_type": "execute_result",
          "data": {
            "text/plain": [
              "<tf.Tensor: shape=(16883, 2), dtype=float32, numpy=\n",
              "array([[0.4981607 , 0.50183934],\n",
              "       [0.4981607 , 0.50183934],\n",
              "       [0.4981607 , 0.50183934],\n",
              "       ...,\n",
              "       [0.4981607 , 0.50183934],\n",
              "       [0.4981607 , 0.50183934],\n",
              "       [0.4981607 , 0.50183934]], dtype=float32)>"
            ]
          },
          "metadata": {
            "tags": []
          },
          "execution_count": 95
        }
      ]
    }
  ]
}