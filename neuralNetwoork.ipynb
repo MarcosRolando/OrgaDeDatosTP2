{
  "nbformat": 4,
  "nbformat_minor": 0,
  "metadata": {
    "colab": {
      "name": "neuralNetwoork.ipynb",
      "provenance": [],
      "collapsed_sections": [],
      "include_colab_link": true
    },
    "kernelspec": {
      "name": "python3",
      "display_name": "Python 3"
    },
    "accelerator": "GPU"
  },
  "cells": [
    {
      "cell_type": "markdown",
      "metadata": {
        "id": "view-in-github",
        "colab_type": "text"
      },
      "source": [
        "<a href=\"https://colab.research.google.com/github/MarcosRolando/OrgaDeDatosTP2/blob/main/neuralNetwoork.ipynb\" target=\"_parent\"><img src=\"https://colab.research.google.com/assets/colab-badge.svg\" alt=\"Open In Colab\"/></a>"
      ]
    },
    {
      "cell_type": "code",
      "metadata": {
        "id": "RGS8tOq2uIJn"
      },
      "source": [
        "import tensorflow as tf\r\n",
        "import pandas as pd\r\n",
        "import numpy as np\r\n",
        "import math as mt\r\n",
        "from tensorflow import feature_column\r\n"
      ],
      "execution_count": null,
      "outputs": []
    },
    {
      "cell_type": "markdown",
      "metadata": {
        "id": "y84PINJBAaX7"
      },
      "source": [
        "Tuneamos algunas cosas del DataFrame que notamos en el analisis de los datos."
      ]
    },
    {
      "cell_type": "code",
      "metadata": {
        "id": "QxVjrxBo5slK"
      },
      "source": [
        "def preprocess_dataframe(df):\r\n",
        "\r\n",
        "  df.fillna(value=0, inplace=True) #Reemplazamos NAN por 0, ya que NAN rompe a Tensorflow\r\n",
        "\r\n",
        "  #Renombramos las columnas que tienen caracteres que TensorFlow no acepta como validos.\r\n",
        "  #Estos particularmente son whitespace, coma y parentesis por ejemplo.\r\n",
        "  df.rename(columns={'ASP_(converted)':'ASP_converted','Pricing, Delivery_Terms_Quote_Appr':\r\n",
        "                    'Pricing_Delivery_Terms_Quote_Appr','Pricing, Delivery_Terms_Approved':\r\n",
        "                    'Pricing_Delivery_Terms_Approved','Source ':'Source'},inplace=True)\r\n",
        "\r\n",
        "  df = df[df['Stage'].isin(['Closed Won', 'Closed Lost'])]\r\n",
        "  df.loc[:, 'Stage'].replace({'Closed Won':1, 'Closed Lost':0}, inplace=True) #0 corresponde a que el caso fue Closed Lost, 1 a que fue Closed Won. Asi tenemos un problema de clasificacion binario que puede entender la red neuronal.\r\n",
        "\r\n",
        "  df.loc[:, 'Planned_Delivery_Start_Date'] = pd.to_datetime(df['Planned_Delivery_Start_Date'], 'coerce',\r\n",
        "                                                                  format='%m/%d/%Y')\r\n",
        "  df.loc[:, 'Planned_Delivery_End_Date'] = pd.to_datetime(df['Planned_Delivery_End_Date'], 'coerce',\r\n",
        "                                                                                      format='%m/%d/%Y')\r\n",
        "  df = df[df['Opportunity_ID'] != 9773] #Hardcodeo este filtrado porque el id 9773 tiene mal cargada la fecha de delviery end, dando una diferencia de 200 anios xd\"\r\n",
        "\r\n",
        "  #Pongo .loc porque pandas me jode con warnings que son falsos positivos de slice copy\"\r\n",
        "  #Gracias Pandas!\"\r\n",
        "\r\n",
        "  #Creamos una nueva columna (Feature Engineering) que contiene la longitud en dias \r\n",
        "  #estimada de la operacion. En el informe habiamos encontrado que aparentaba haber\r\n",
        "  #una relacion cuadratica de decrecimiento a medida que aumentaban los dias donde disminuia\r\n",
        "  #la chance de completar la operacion.\r\n",
        "  df['Delta_Time'] = df['Planned_Delivery_End_Date'] - df['Planned_Delivery_Start_Date']\r\n",
        "  df.loc[:, 'Delta_Time'] = df['Delta_Time'].dt.days\r\n",
        "  df['Delta_Time'] = df.groupby('Opportunity_ID')['Delta_Time'].transform('max')\r\n",
        "\r\n",
        "  #Pasamos todo a dolares\r\n",
        "  currency_conversion = {'AUD':0.707612, 'EUR':1.131064, 'GBP':1.318055, 'JPY':0.008987, 'USD':1.0}\r\n",
        "  df['Total_Taxable_Amount_Currency'] = df[['Total_Taxable_Amount_Currency']].replace(currency_conversion)\r\n",
        "  df['Total_Taxable_Amount'] = df['Total_Taxable_Amount_Currency'] * df['Total_Taxable_Amount']\r\n",
        "\r\n",
        "  #Modifico la columna Brand para que en vez de decir que marca es, solo diga\r\n",
        "  #si tiene o no marca\r\n",
        "  df.loc[df['Brand'] == 'None', 'Brand'] = 'No'\r\n",
        "  df.loc[df['Brand'] != 'No', 'Brand'] = 'Yes'\r\n",
        "\r\n",
        "  #Agrego una columna que indica si tiene o no numero de contrato\r\n",
        "  df.loc[:, 'Sales_Contract_No'][df['Sales_Contract_No'] != 'None'] = 'Yes'\r\n",
        "  df.loc[:, 'Sales_Contract_No'][df['Sales_Contract_No'] == 'None'] = 'No'\r\n",
        "  df.rename(columns={'Sales_Contract_No':'Has_Contract_Number'}, inplace=True)\r\n",
        "\r\n",
        "  #Agrego una columna que indique la cantidad de productos que tiene esa\r\n",
        "  #oportunidad\r\n",
        "  df['Product_Name'] = 1\r\n",
        "  df['Product_Amount'] = df.groupby('Opportunity_ID')['Product_Name'].transform(lambda x: x.sum())\r\n",
        "\r\n",
        "  #Agrego una columna que indica si el owner de la cuenta es el mismo que el de la oportunidad\r\n",
        "  #o no\r\n",
        "  df['Same_Owner'] = (df['Account_Owner'] == df['Opportunity_Owner'])\r\n",
        "  df['Same_Owner'] = df['Same_Owner'].replace({False:'No', True:'Yes'})\r\n",
        "\r\n",
        "\r\n",
        "  #Cambio TRF por una columna que es la suma de los TRF de la oportunidad\r\n",
        "  df[\"TRF\"] = df.groupby(\"Opportunity_ID\")[\"TRF\"].transform(\"mean\")\r\n",
        "\r\n",
        "\r\n",
        "  #Pruebo volar duplicados, solo cambia el producto. Si el producto no importa\r\n",
        "  #entonces volar duplicados no deberia importar. Obviamente vuelo el producto en el que\r\n",
        "  #quede tambien.\r\n",
        "  df.drop_duplicates('Opportunity_Name',inplace=True)\r\n",
        "  df.drop(columns=['Product_Name','Product_Family','Opportunity_Name'],inplace=True)\r\n",
        "\r\n",
        "\r\n",
        "  #Normalizo las columnas numericas\r\n",
        "  normalized_columns = ['ASP_converted','TRF','Total_Taxable_Amount', 'Product_Amount']\r\n",
        "  for column in normalized_columns:\r\n",
        "    df[column] = (df[column] - df[column].mean()) / df[column].std()\r\n",
        "\r\n",
        "  #Borro columnas que tengan el mismo dato en todas las entradas, o inconsecuentes como el ID / Opportunity_ID\r\n",
        "  #Algunas columnas borradas son porque pienso que no tienen incidencia, ir viendo.\r\n",
        "  #TODO: Analizar si el Sales_Contract_No no es que importe el numero en si, sino si tiene\r\n",
        "  #o no tiene numero de contrato. Por ahora no lo meto como input.\r\n",
        "  #TODO: Ver el mismo tema con la columna 'Price', la mayoria tiene None u Other\r\n",
        "  #y solo unos pocos tienen precio numerico. Quiza importe que tenga precio o no tenga,\r\n",
        "  #o si no tiene precio quiza importe si es None u Other. Por ahora no lo pongo\r\n",
        "  #como input.\r\n",
        "  df.drop(columns=['Submitted_for_Approval', 'Last_Activity', 'ASP_(converted)_Currency', \r\n",
        "                  'Prod_Category_A', 'ID', 'Opportunity_ID'],inplace=True)\r\n",
        "\r\n",
        "  #Drop columnas que quiza podamos usar pero por ahora no las uso\r\n",
        "  df.drop(columns=['Account_Created_Date','Opportunity_Created_Date',\r\n",
        "                  'Quote_Expiry_Date','Last_Modified_Date',\r\n",
        "                  'Planned_Delivery_Start_Date','Planned_Delivery_End_Date',\r\n",
        "                  'Month','Delivery_Quarter', 'Delivery_Year', 'Actual_Delivery_Date',\r\n",
        "                  'Price','ASP','ASP_Currency','Total_Amount_Currency',\r\n",
        "                  'Total_Amount','Total_Taxable_Amount_Currency','Currency',\r\n",
        "                   'Product_Category_B','Last_Modified_By', 'Account_Owner',\r\n",
        "                   'Opportunity_Owner','Account_Name','Product_Type','Size',\r\n",
        "                   'Territory', 'Billing_Country'],\r\n",
        "                   inplace=True)\r\n",
        "\r\n",
        "  #Definimos que tipo de feature es cada columna\r\n",
        "\r\n",
        "  #Debemos separar algunos de los registros para armar un set de test propio (no el de la catedra). De esta forma sabremos rapidamente\r\n",
        "  #si nuestro modelo esta dando resultados optimos o no sin necesidad de estar subiendo el TP a Kaggle constantemente.\r\n",
        "  #Sin embargo, no queremos usar tantos registros ya que estariamos disminuyendo el set de entrenamiento considerablemente.\r\n",
        "  #Podemos empezar reservando 2000 registros para el test de prueba y ver que onda. Pasariamos de tener 16 mil a 14 mil \r\n",
        "  #registros para el set de entrenamiento, no es una perdida importantisima creo en principio, asi que arrancamos con eso.\r\n",
        "\r\n",
        "  #Por otro lado, nuestro test de prueba deberia tener un 50 50 de Closed Won y Closed Lost, por lo que no podemos elegir asi nomas\r\n",
        "  #al azar.\r\n",
        "\r\n",
        "  return df"
      ],
      "execution_count": null,
      "outputs": []
    },
    {
      "cell_type": "code",
      "metadata": {
        "id": "fjY1dvgAdSzw"
      },
      "source": [
        "# Metodo que pasa de DataFrame de Pandas a un DataSet de TensorFlow\r\n",
        "def df_to_dataset(dataframe, shuffle=True, batch_size=32):\r\n",
        "  dataframe = dataframe.copy()\r\n",
        "  labels = dataframe.pop('Stage') #Retorna la columna Stage, eliminandolo simultaneamente del DataFrame. 'Stage' seria nuestra columna 'target', es decir, lo que queremos predecir.\r\n",
        "  ds = tf.data.Dataset.from_tensor_slices((dict(dataframe), labels)) #Crea un DataSet cuyos elementos son slices de los tensores pasados a la funcion. Ver documentacion oficial para comprender bien.\r\n",
        "  #En pocas palabras, le pasamos las columnas con los datos como diccionario (estilo 'columna':[dato1,dato2,dato3]) y una lista con los resultados estilo [resu1,resu2,resu3].\r\n",
        "  #Se genera un DataSet del estilo [('columna':[dato1,dato2,dato3], [resu1, resu2, resu3])].\r\n",
        "  #En realidad 'columna' es una lista de todas las columnas con sus correspondientes datos, pero se entiende la idea creo.\r\n",
        "  if shuffle:\r\n",
        "    ds = ds.shuffle(buffer_size=len(dataframe)) #Al tener el buffer_size del mismo tamanio que la cantidad de datos del dataset, tenemos perfect shuffling (ver documentacion para comprender).\r\n",
        "    #Basicamente mezlcamos el dataset para que luego los batches que se armen contengan distintos elementos si lo entrenamos distintas veces.\r\n",
        "  ds = ds.batch(batch_size) #Arma batches de tamanio batch_size entre elementos consecutivos del DataSet.\r\n",
        "  return ds"
      ],
      "execution_count": null,
      "outputs": []
    },
    {
      "cell_type": "code",
      "metadata": {
        "id": "dmaiJcl39e7X"
      },
      "source": [
        "#Arma las features, asignando las columnas del DataFrame segun corresponda al tipo de feature\r\n",
        "#(numerico, categorico, etc). Entiendase por feature a las columnas del DataFrame.\r\n",
        "def set_up_feature_columns(dataframe, numeric_columns, indicator_columns, bucket_columns, crossed_columns):\r\n",
        "  features = []\r\n",
        "\r\n",
        "  #numeric features\r\n",
        "  for column_name in numeric_columns:\r\n",
        "    features.append(feature_column.numeric_column(column_name))\r\n",
        "\r\n",
        "  #bucket features\r\n",
        "  boundaries = [] #En principio este boundary es solo para la columna 'Delta Time'. Ver de como generalizar.\r\n",
        "  for i in range(38):\r\n",
        "    boundaries.append(i*5.0)\r\n",
        "\r\n",
        "  for column_name in bucket_columns:\r\n",
        "    range_column = feature_column.numeric_column(column_name)\r\n",
        "    bukect_column = feature_column.bucketized_column(range_column, boundaries)\r\n",
        "    features.append(bukect_column)\r\n",
        "\r\n",
        "  #indicator features (one-hot value vector, para aquellas columnas categoricas de pocas opciones)\r\n",
        "  for column_name in indicator_columns:\r\n",
        "    categorical_column = feature_column.categorical_column_with_vocabulary_list(\r\n",
        "                                          column_name, dataframe[column_name].unique())\r\n",
        "    indicator_column = feature_column.indicator_column(categorical_column)\r\n",
        "    features.append(indicator_column)\r\n",
        "\r\n",
        "  #crossed features\r\n",
        "  for crossed_feature in crossed_columns:\r\n",
        "    categorical_columns = []\r\n",
        "    possible_values = 1\r\n",
        "    for column_name in crossed_feature:\r\n",
        "      column_keys = dataframe[column_name].unique()\r\n",
        "      possible_values = possible_values * len(column_keys)\r\n",
        "      categorical_columns.append(feature_column.categorical_column_with_vocabulary_list(\r\n",
        "                                            column_name, column_keys))\r\n",
        "    crossed_feature = feature_column.crossed_column(categorical_columns, hash_bucket_size=possible_values) #Ponemos la cantidad de buckets justos para representar todas las combinaciones\r\n",
        "    features.append(feature_column.indicator_column(crossed_feature))\r\n",
        "\r\n",
        "  return features"
      ],
      "execution_count": 46,
      "outputs": []
    },
    {
      "cell_type": "markdown",
      "metadata": {
        "id": "L0gHFhmD-AbE"
      },
      "source": [
        "Preparamos los features para el modelo, es decir, seteamos cada una de las columnas que vayamos a utilizar del DataFrame. Luego generamos el DataSet en base al DataFrame para darselo como input al modelo."
      ]
    },
    {
      "cell_type": "code",
      "metadata": {
        "id": "7bTkNirdLlCr",
        "colab": {
          "base_uri": "https://localhost:8080/"
        },
        "outputId": "6d14108f-8e06-4f5f-9785-b9f9a8f1e28e"
      },
      "source": [
        "  #Columnas que consideramos numericas\r\n",
        "  numeric_columns = ['ASP_converted','TRF','Total_Taxable_Amount','Product_Amount']\r\n",
        "\r\n",
        "  #Columnas que consideramos clasificatorias con rango numerico\r\n",
        "  bucket_columns = ['Delta_Time']\r\n",
        "\r\n",
        "  #Columnas que consideramos categoricas de pocos valores posibles\r\n",
        "  indicator_columns = ['Region','Bureaucratic_Code','Source', 'Same_Owner',\r\n",
        "                        'Account_Type',\r\n",
        "                        'Opportunity_Type','Quote_Type','Delivery_Terms']#'Product_Category_B','Last_Modified_By'\r\n",
        "                        #'Product_Family', 'Product_Name', 'Opportunity_Name'\r\n",
        "                        #'Account_Owner', 'Opportunity_Owner', 'Account_Name'\r\n",
        "                        #'Product_Type','Size', 'Territory', 'Billing_Country'\r\n",
        "\r\n",
        "  #Columnas crossed, aquellas que queremos un parametro por combinacion\r\n",
        "  crossed_columns = [['Pricing_Delivery_Terms_Quote_Appr','Pricing_Delivery_Terms_Approved',\r\n",
        "                      'Bureaucratic_Code_0_Approval','Bureaucratic_Code_0_Approved'],\r\n",
        "                     ['Has_Contract_Number','Brand']]\r\n",
        "\r\n",
        "  df = pd.read_csv('/content/Train_TP2_Datos_2020-2C.csv')\r\n",
        "  df = preprocess_dataframe(df)\r\n",
        "\r\n",
        "  features = set_up_feature_columns(df,numeric_columns,indicator_columns,bucket_columns, crossed_columns)\r\n",
        "\r\n",
        "  #Separamos el DataFrame en uno de pruebo y el de entrenamiento. TODO: Ver el de validacion\r\n",
        "  test_lines = 200\r\n",
        "\r\n",
        "  np.random.seed(1)\r\n",
        "  drop_indices = np.random.choice(df.index, test_lines, replace=False)\r\n",
        "  df_test = df.loc[drop_indices, :]\r\n",
        "  df.drop(drop_indices, inplace=True)\r\n",
        "\r\n",
        "  #df_validation = df.tail(200)\r\n",
        "  #df.drop(df.tail(200).index, inplace=True)\r\n",
        "\r\n",
        "  feature_layer = tf.keras.layers.DenseFeatures(features)\r\n",
        "  ds = df_to_dataset(df,batch_size=56, shuffle=True)\r\n",
        "  ds_test = df_to_dataset(df_test, batch_size=56, shuffle=False)\r\n",
        "  #ds_validation = df_to_dataset(df_validation, batch_size=56, shuffle=False)\r\n"
      ],
      "execution_count": 72,
      "outputs": [
        {
          "output_type": "stream",
          "text": [
            "/usr/local/lib/python3.6/dist-packages/pandas/core/series.py:4582: SettingWithCopyWarning: \n",
            "A value is trying to be set on a copy of a slice from a DataFrame\n",
            "\n",
            "See the caveats in the documentation: https://pandas.pydata.org/pandas-docs/stable/user_guide/indexing.html#returning-a-view-versus-a-copy\n",
            "  method=method,\n",
            "/usr/local/lib/python3.6/dist-packages/pandas/core/indexing.py:1743: SettingWithCopyWarning: \n",
            "A value is trying to be set on a copy of a slice from a DataFrame.\n",
            "Try using .loc[row_indexer,col_indexer] = value instead\n",
            "\n",
            "See the caveats in the documentation: https://pandas.pydata.org/pandas-docs/stable/user_guide/indexing.html#returning-a-view-versus-a-copy\n",
            "  isetter(ilocs[0], value)\n",
            "/usr/local/lib/python3.6/dist-packages/ipykernel_launcher.py:42: SettingWithCopyWarning: \n",
            "A value is trying to be set on a copy of a slice from a DataFrame\n",
            "\n",
            "See the caveats in the documentation: https://pandas.pydata.org/pandas-docs/stable/user_guide/indexing.html#returning-a-view-versus-a-copy\n",
            "/usr/local/lib/python3.6/dist-packages/ipykernel_launcher.py:43: SettingWithCopyWarning: \n",
            "A value is trying to be set on a copy of a slice from a DataFrame\n",
            "\n",
            "See the caveats in the documentation: https://pandas.pydata.org/pandas-docs/stable/user_guide/indexing.html#returning-a-view-versus-a-copy\n"
          ],
          "name": "stderr"
        },
        {
          "output_type": "execute_result",
          "data": {
            "text/plain": [
              "1    4970\n",
              "0    4620\n",
              "Name: Stage, dtype: int64"
            ]
          },
          "metadata": {
            "tags": []
          },
          "execution_count": 72
        }
      ]
    },
    {
      "cell_type": "markdown",
      "metadata": {
        "id": "YgLC9fhu-Mqu"
      },
      "source": [
        "Creamos y compilamos el modelo. En esta seccion se tunean las propiedades del modelo."
      ]
    },
    {
      "cell_type": "code",
      "metadata": {
        "id": "JgXH6i3kL9ZN"
      },
      "source": [
        "model = tf.keras.Sequential([\r\n",
        "  feature_layer,\r\n",
        "  tf.keras.layers.Dense(1, activation='sigmoid')\r\n",
        "])"
      ],
      "execution_count": 66,
      "outputs": []
    },
    {
      "cell_type": "code",
      "metadata": {
        "id": "cbgHkvYWxP2h"
      },
      "source": [
        "model.compile(optimizer='adam',\r\n",
        "              loss=tf.keras.losses.BinaryCrossentropy(),\r\n",
        "              metrics=['accuracy'])"
      ],
      "execution_count": 67,
      "outputs": []
    },
    {
      "cell_type": "markdown",
      "metadata": {
        "id": "stA0Y5lI9-Jy"
      },
      "source": [
        "Entrenamos el modelo"
      ]
    },
    {
      "cell_type": "code",
      "metadata": {
        "colab": {
          "base_uri": "https://localhost:8080/"
        },
        "id": "6px_EtjoYRXq",
        "outputId": "fe7114fd-ac6d-4235-bfc0-465b560df587"
      },
      "source": [
        "#Ignoren el WARNING, esta en la documentacion tambien. Nadie le da bola en StackOverflow xd.\r\n",
        "#model.fit(ds, validation_data=ds_validation, epochs=60)\r\n",
        "model.fit(ds, epochs=60)\r\n",
        "model.summary()"
      ],
      "execution_count": 73,
      "outputs": [
        {
          "output_type": "stream",
          "text": [
            "Epoch 1/60\n",
            "172/172 [==============================] - 1s 7ms/step - loss: 0.1495 - accuracy: 0.9591\n",
            "Epoch 2/60\n",
            "172/172 [==============================] - 1s 6ms/step - loss: 0.1495 - accuracy: 0.9592\n",
            "Epoch 3/60\n",
            "172/172 [==============================] - 1s 7ms/step - loss: 0.1494 - accuracy: 0.9592\n",
            "Epoch 4/60\n",
            "172/172 [==============================] - 1s 7ms/step - loss: 0.1495 - accuracy: 0.9593\n",
            "Epoch 5/60\n",
            "172/172 [==============================] - 1s 6ms/step - loss: 0.1494 - accuracy: 0.9593\n",
            "Epoch 6/60\n",
            "172/172 [==============================] - 1s 7ms/step - loss: 0.1493 - accuracy: 0.9593\n",
            "Epoch 7/60\n",
            "172/172 [==============================] - 1s 7ms/step - loss: 0.1492 - accuracy: 0.9594\n",
            "Epoch 8/60\n",
            "172/172 [==============================] - 1s 6ms/step - loss: 0.1492 - accuracy: 0.9593\n",
            "Epoch 9/60\n",
            "172/172 [==============================] - 1s 6ms/step - loss: 0.1491 - accuracy: 0.9590\n",
            "Epoch 10/60\n",
            "172/172 [==============================] - 1s 6ms/step - loss: 0.1491 - accuracy: 0.9593\n",
            "Epoch 11/60\n",
            "172/172 [==============================] - 1s 6ms/step - loss: 0.1491 - accuracy: 0.9594\n",
            "Epoch 12/60\n",
            "172/172 [==============================] - 1s 6ms/step - loss: 0.1490 - accuracy: 0.9593\n",
            "Epoch 13/60\n",
            "172/172 [==============================] - 1s 6ms/step - loss: 0.1490 - accuracy: 0.9593\n",
            "Epoch 14/60\n",
            "172/172 [==============================] - 1s 6ms/step - loss: 0.1489 - accuracy: 0.9591\n",
            "Epoch 15/60\n",
            "172/172 [==============================] - 1s 6ms/step - loss: 0.1489 - accuracy: 0.9592\n",
            "Epoch 16/60\n",
            "172/172 [==============================] - 1s 6ms/step - loss: 0.1489 - accuracy: 0.9593\n",
            "Epoch 17/60\n",
            "172/172 [==============================] - 1s 6ms/step - loss: 0.1488 - accuracy: 0.9593\n",
            "Epoch 18/60\n",
            "172/172 [==============================] - 1s 6ms/step - loss: 0.1488 - accuracy: 0.9593\n",
            "Epoch 19/60\n",
            "172/172 [==============================] - 1s 6ms/step - loss: 0.1488 - accuracy: 0.9594\n",
            "Epoch 20/60\n",
            "172/172 [==============================] - 1s 6ms/step - loss: 0.1487 - accuracy: 0.9595\n",
            "Epoch 21/60\n",
            "172/172 [==============================] - 1s 6ms/step - loss: 0.1487 - accuracy: 0.9593\n",
            "Epoch 22/60\n",
            "172/172 [==============================] - 1s 6ms/step - loss: 0.1487 - accuracy: 0.9594\n",
            "Epoch 23/60\n",
            "172/172 [==============================] - 1s 6ms/step - loss: 0.1486 - accuracy: 0.9592\n",
            "Epoch 24/60\n",
            "172/172 [==============================] - 1s 6ms/step - loss: 0.1486 - accuracy: 0.9593\n",
            "Epoch 25/60\n",
            "172/172 [==============================] - 1s 7ms/step - loss: 0.1486 - accuracy: 0.9593\n",
            "Epoch 26/60\n",
            "172/172 [==============================] - 1s 6ms/step - loss: 0.1486 - accuracy: 0.9594\n",
            "Epoch 27/60\n",
            "172/172 [==============================] - 1s 7ms/step - loss: 0.1486 - accuracy: 0.9594\n",
            "Epoch 28/60\n",
            "172/172 [==============================] - 1s 7ms/step - loss: 0.1486 - accuracy: 0.9594\n",
            "Epoch 29/60\n",
            "172/172 [==============================] - 1s 7ms/step - loss: 0.1485 - accuracy: 0.9594\n",
            "Epoch 30/60\n",
            "172/172 [==============================] - 1s 6ms/step - loss: 0.1486 - accuracy: 0.9594\n",
            "Epoch 31/60\n",
            "172/172 [==============================] - 1s 6ms/step - loss: 0.1484 - accuracy: 0.9593\n",
            "Epoch 32/60\n",
            "172/172 [==============================] - 1s 7ms/step - loss: 0.1485 - accuracy: 0.9594\n",
            "Epoch 33/60\n",
            "172/172 [==============================] - 1s 7ms/step - loss: 0.1484 - accuracy: 0.9595\n",
            "Epoch 34/60\n",
            "172/172 [==============================] - 1s 7ms/step - loss: 0.1484 - accuracy: 0.9594\n",
            "Epoch 35/60\n",
            "172/172 [==============================] - 1s 7ms/step - loss: 0.1484 - accuracy: 0.9594\n",
            "Epoch 36/60\n",
            "172/172 [==============================] - 1s 7ms/step - loss: 0.1484 - accuracy: 0.9594\n",
            "Epoch 37/60\n",
            "172/172 [==============================] - 1s 6ms/step - loss: 0.1483 - accuracy: 0.9596\n",
            "Epoch 38/60\n",
            "172/172 [==============================] - 1s 6ms/step - loss: 0.1483 - accuracy: 0.9596\n",
            "Epoch 39/60\n",
            "172/172 [==============================] - 1s 6ms/step - loss: 0.1483 - accuracy: 0.9594\n",
            "Epoch 40/60\n",
            "172/172 [==============================] - 1s 6ms/step - loss: 0.1484 - accuracy: 0.9595\n",
            "Epoch 41/60\n",
            "172/172 [==============================] - 1s 6ms/step - loss: 0.1483 - accuracy: 0.9596\n",
            "Epoch 42/60\n",
            "172/172 [==============================] - 1s 6ms/step - loss: 0.1483 - accuracy: 0.9595\n",
            "Epoch 43/60\n",
            "172/172 [==============================] - 1s 7ms/step - loss: 0.1483 - accuracy: 0.9595\n",
            "Epoch 44/60\n",
            "172/172 [==============================] - 1s 7ms/step - loss: 0.1483 - accuracy: 0.9595\n",
            "Epoch 45/60\n",
            "172/172 [==============================] - 1s 6ms/step - loss: 0.1482 - accuracy: 0.9595\n",
            "Epoch 46/60\n",
            "172/172 [==============================] - 1s 6ms/step - loss: 0.1482 - accuracy: 0.9596\n",
            "Epoch 47/60\n",
            "172/172 [==============================] - 1s 7ms/step - loss: 0.1482 - accuracy: 0.9596\n",
            "Epoch 48/60\n",
            "172/172 [==============================] - 1s 7ms/step - loss: 0.1482 - accuracy: 0.9595\n",
            "Epoch 49/60\n",
            "172/172 [==============================] - 1s 6ms/step - loss: 0.1482 - accuracy: 0.9596\n",
            "Epoch 50/60\n",
            "172/172 [==============================] - 1s 7ms/step - loss: 0.1482 - accuracy: 0.9593\n",
            "Epoch 51/60\n",
            "172/172 [==============================] - 1s 7ms/step - loss: 0.1482 - accuracy: 0.9596\n",
            "Epoch 52/60\n",
            "172/172 [==============================] - 1s 7ms/step - loss: 0.1482 - accuracy: 0.9594\n",
            "Epoch 53/60\n",
            "172/172 [==============================] - 1s 7ms/step - loss: 0.1481 - accuracy: 0.9595\n",
            "Epoch 54/60\n",
            "172/172 [==============================] - 1s 7ms/step - loss: 0.1481 - accuracy: 0.9596\n",
            "Epoch 55/60\n",
            "172/172 [==============================] - 1s 7ms/step - loss: 0.1481 - accuracy: 0.9596\n",
            "Epoch 56/60\n",
            "172/172 [==============================] - 1s 7ms/step - loss: 0.1482 - accuracy: 0.9596\n",
            "Epoch 57/60\n",
            "172/172 [==============================] - 1s 7ms/step - loss: 0.1481 - accuracy: 0.9596\n",
            "Epoch 58/60\n",
            "172/172 [==============================] - 1s 7ms/step - loss: 0.1481 - accuracy: 0.9596\n",
            "Epoch 59/60\n",
            "172/172 [==============================] - 1s 7ms/step - loss: 0.1481 - accuracy: 0.9595\n",
            "Epoch 60/60\n",
            "172/172 [==============================] - 1s 7ms/step - loss: 0.1481 - accuracy: 0.9594\n",
            "Model: \"sequential_4\"\n",
            "_________________________________________________________________\n",
            "Layer (type)                 Output Shape              Param #   \n",
            "=================================================================\n",
            "dense_features_26 (DenseFeat multiple                  0         \n",
            "_________________________________________________________________\n",
            "dense_4 (Dense)              multiple                  135       \n",
            "=================================================================\n",
            "Total params: 135\n",
            "Trainable params: 135\n",
            "Non-trainable params: 0\n",
            "_________________________________________________________________\n"
          ],
          "name": "stdout"
        }
      ]
    },
    {
      "cell_type": "markdown",
      "metadata": {
        "id": "zYTFqZSM-TA-"
      },
      "source": [
        "Evaluamos el modelo"
      ]
    },
    {
      "cell_type": "code",
      "metadata": {
        "id": "3SDVpkRXMmLD",
        "colab": {
          "base_uri": "https://localhost:8080/"
        },
        "outputId": "d5d1fc5f-0e7e-4fff-e2ca-02a566ff3a9b"
      },
      "source": [
        "model.evaluate(ds_test)"
      ],
      "execution_count": 74,
      "outputs": [
        {
          "output_type": "stream",
          "text": [
            "4/4 [==============================] - 0s 7ms/step - loss: 0.1023 - accuracy: 0.9800\n"
          ],
          "name": "stdout"
        },
        {
          "output_type": "execute_result",
          "data": {
            "text/plain": [
              "[0.1022772416472435, 0.9800000190734863]"
            ]
          },
          "metadata": {
            "tags": []
          },
          "execution_count": 74
        }
      ]
    },
    {
      "cell_type": "markdown",
      "metadata": {
        "id": "z1z7YhHrAGLc"
      },
      "source": [
        "Escribimos las predicciones"
      ]
    },
    {
      "cell_type": "code",
      "metadata": {
        "id": "S8BZJqotAFqU",
        "colab": {
          "base_uri": "https://localhost:8080/"
        },
        "outputId": "7d071039-e96f-425c-b870-9c4248efe1b5"
      },
      "source": [
        "frio_test_df = pd.read_csv('/content/Test_TP2_Datos_2020-2C.csv')\r\n",
        "frio_test_df['Stage'] = 'Closed Won' #Esto esta solo para que funque todo, no lo uso. No se bien como armarlo sin los labels de Stage. TODO: Averiguar como es!\r\n",
        "aux_df = frio_test_df[['Opportunity_ID']] #Esta columna la vuela el preprocesado sino\r\n",
        "frio_test_df = preprocess_dataframe(frio_test_df)\r\n",
        "frio_test_ds = df_to_dataset(frio_test_df, shuffle=False, batch_size=56)\r\n",
        "predictions = model.predict(frio_test_ds)\r\n",
        "\r\n",
        "aux_df.drop_duplicates(subset='Opportunity_ID', inplace=True) #Lo hacia el preprocesado pero es verdad que lo copie antes a este xd, perdon Agus, paja de dejarlo lindo.\r\n",
        "aux_df['Target'] = predictions\r\n",
        "\r\n",
        "#aux_df['Target'] = aux_df.groupby(by='Opportunity_ID').transform(lambda x: x.mean())\r\n",
        "#aux_df.drop_duplicates(subset='Opportunity_ID', inplace=True)\r\n",
        "\r\n",
        "aux_df.to_csv('prediccionesFrioFrio.csv', index=False)"
      ],
      "execution_count": 75,
      "outputs": [
        {
          "output_type": "stream",
          "text": [
            "/usr/local/lib/python3.6/dist-packages/ipykernel_launcher.py:42: SettingWithCopyWarning: \n",
            "A value is trying to be set on a copy of a slice from a DataFrame\n",
            "\n",
            "See the caveats in the documentation: https://pandas.pydata.org/pandas-docs/stable/user_guide/indexing.html#returning-a-view-versus-a-copy\n",
            "/usr/local/lib/python3.6/dist-packages/ipykernel_launcher.py:43: SettingWithCopyWarning: \n",
            "A value is trying to be set on a copy of a slice from a DataFrame\n",
            "\n",
            "See the caveats in the documentation: https://pandas.pydata.org/pandas-docs/stable/user_guide/indexing.html#returning-a-view-versus-a-copy\n"
          ],
          "name": "stderr"
        },
        {
          "output_type": "stream",
          "text": [
            "WARNING:tensorflow:Layers in a Sequential model should only have a single input tensor, but we receive a <class 'dict'> input: {'Region': <tf.Tensor 'ExpandDims_14:0' shape=(None, 1) dtype=string>, 'Pricing_Delivery_Terms_Quote_Appr': <tf.Tensor 'ExpandDims_11:0' shape=(None, 1) dtype=int64>, 'Pricing_Delivery_Terms_Approved': <tf.Tensor 'ExpandDims_10:0' shape=(None, 1) dtype=int64>, 'Bureaucratic_Code_0_Approval': <tf.Tensor 'ExpandDims_4:0' shape=(None, 1) dtype=int64>, 'Bureaucratic_Code_0_Approved': <tf.Tensor 'ExpandDims_5:0' shape=(None, 1) dtype=int64>, 'Bureaucratic_Code': <tf.Tensor 'ExpandDims_3:0' shape=(None, 1) dtype=string>, 'Source': <tf.Tensor 'ExpandDims_16:0' shape=(None, 1) dtype=string>, 'Has_Contract_Number': <tf.Tensor 'ExpandDims_8:0' shape=(None, 1) dtype=string>, 'Account_Type': <tf.Tensor 'ExpandDims_1:0' shape=(None, 1) dtype=string>, 'Opportunity_Type': <tf.Tensor 'ExpandDims_9:0' shape=(None, 1) dtype=string>, 'Quote_Type': <tf.Tensor 'ExpandDims_13:0' shape=(None, 1) dtype=string>, 'Delivery_Terms': <tf.Tensor 'ExpandDims_6:0' shape=(None, 1) dtype=string>, 'Brand': <tf.Tensor 'ExpandDims_2:0' shape=(None, 1) dtype=string>, 'ASP_converted': <tf.Tensor 'ExpandDims:0' shape=(None, 1) dtype=float64>, 'TRF': <tf.Tensor 'ExpandDims_17:0' shape=(None, 1) dtype=float64>, 'Total_Taxable_Amount': <tf.Tensor 'ExpandDims_18:0' shape=(None, 1) dtype=float64>, 'Delta_Time': <tf.Tensor 'ExpandDims_7:0' shape=(None, 1) dtype=float64>, 'Product_Amount': <tf.Tensor 'ExpandDims_12:0' shape=(None, 1) dtype=float64>, 'Same_Owner': <tf.Tensor 'ExpandDims_15:0' shape=(None, 1) dtype=string>}\n",
            "Consider rewriting this model with the Functional API.\n"
          ],
          "name": "stdout"
        }
      ]
    }
  ]
}