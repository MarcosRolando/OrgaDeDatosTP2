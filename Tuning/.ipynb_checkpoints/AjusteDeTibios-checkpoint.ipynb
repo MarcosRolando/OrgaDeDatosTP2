{
 "cells": [
  {
   "cell_type": "code",
   "execution_count": 42,
   "metadata": {
    "id": "_NYAWDvgVDPT"
   },
   "outputs": [],
   "source": [
    "import pandas as pd"
   ]
  },
  {
   "cell_type": "markdown",
   "metadata": {},
   "source": [
    "### Vamos a intentar sacar los tibios para tener un mejor score en kaggle."
   ]
  },
  {
   "cell_type": "code",
   "execution_count": 43,
   "metadata": {
    "id": "Yq1NcoO4XGqj"
   },
   "outputs": [],
   "source": [
    "best = pd.read_csv(\"best.csv\")['Target']\n",
    "alt1 = pd.read_csv(\"redAgus.csv\")['Target']\n",
    "alt2 = pd.read_csv(\"arbolNico.csv\")['Target']"
   ]
  },
  {
   "cell_type": "markdown",
   "metadata": {},
   "source": [
    "#### lo que se intenta es tener la mayor variedad posible."
   ]
  },
  {
   "cell_type": "code",
   "execution_count": 44,
   "metadata": {},
   "outputs": [],
   "source": [
    "def es_tibio(x):\n",
    "    return(x > 0.3 and x < 0.7)"
   ]
  },
  {
   "cell_type": "code",
   "execution_count": 45,
   "metadata": {},
   "outputs": [
    {
     "name": "stdout",
     "output_type": "stream",
     "text": [
      "488\n"
     ]
    }
   ],
   "source": [
    "contador = 0\n",
    "for i in best :\n",
    "    if es_tibio(i):\n",
    "        contador +=1\n",
    "print(contador)"
   ]
  },
  {
   "cell_type": "code",
   "execution_count": 46,
   "metadata": {},
   "outputs": [],
   "source": [
    "def getProb(x):\n",
    "    if(x == 1 or x == 0): \n",
    "        return 0.3\n",
    "    return 0.7"
   ]
  },
  {
   "cell_type": "markdown",
   "metadata": {},
   "source": [
    "#### Lo que hacemos es que en caso de un tibio hacemos un mayority voting entre los modelos, y lo enviamos a 0.3 a a .7"
   ]
  },
  {
   "cell_type": "code",
   "execution_count": 47,
   "metadata": {},
   "outputs": [],
   "source": [
    "aux = []\n",
    "for i in range(len(best)) :\n",
    "    x = 0\n",
    "    if es_tibio(best[i]):\n",
    "        if ( best[i] > 0.5 ) :\n",
    "            x+=1\n",
    "        if ( alt1[i] > 0.5 ) :\n",
    "            x+=1\n",
    "        if ( alt1[2] > 0.5 ) :\n",
    "            x+=1\n",
    "        aux.append( getProb(x) )\n",
    "        continue\n",
    "    aux.append(best[i])"
   ]
  },
  {
   "cell_type": "code",
   "execution_count": 48,
   "metadata": {},
   "outputs": [],
   "source": [
    "out = pd.read_csv(\"best.csv\")"
   ]
  },
  {
   "cell_type": "code",
   "execution_count": 49,
   "metadata": {},
   "outputs": [],
   "source": [
    "out['Target'] = aux"
   ]
  },
  {
   "cell_type": "code",
   "execution_count": 50,
   "metadata": {},
   "outputs": [],
   "source": [
    "out.to_csv('Out/AjusteDeTibios.csv', index=False)"
   ]
  }
 ],
 "metadata": {
  "colab": {
   "authorship_tag": "ABX9TyNuHPtolD/qdRGOcAujdaNH",
   "collapsed_sections": [],
   "include_colab_link": true,
   "name": "comparacion_csvs.ipynb",
   "provenance": []
  },
  "kernelspec": {
   "display_name": "Python 3",
   "language": "python",
   "name": "python3"
  },
  "language_info": {
   "codemirror_mode": {
    "name": "ipython",
    "version": 3
   },
   "file_extension": ".py",
   "mimetype": "text/x-python",
   "name": "python",
   "nbconvert_exporter": "python",
   "pygments_lexer": "ipython3",
   "version": "3.7.6"
  }
 },
 "nbformat": 4,
 "nbformat_minor": 1
}
