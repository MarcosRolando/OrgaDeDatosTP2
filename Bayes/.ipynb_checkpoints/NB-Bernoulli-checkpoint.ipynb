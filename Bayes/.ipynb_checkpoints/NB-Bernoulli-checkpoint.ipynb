{
 "cells": [
  {
   "cell_type": "code",
   "execution_count": 118,
   "metadata": {},
   "outputs": [],
   "source": [
    "import pandas as pd\n",
    "import regex as re\n",
    "from sklearn.naive_bayes import BernoulliNB\n",
    "from sklearn.model_selection import train_test_split\n",
    "from sklearn.preprocessing import StandardScaler\n",
    "from sklearn import metrics\n",
    "from sklearn import preprocessing\n",
    "import numpy as np"
   ]
  },
  {
   "cell_type": "code",
   "execution_count": 120,
   "metadata": {},
   "outputs": [],
   "source": [
    "def preprocess_dataframe(df):\n",
    "\n",
    "  df.fillna(value=0, inplace=True) #Reemplazamos NAN por 0, ya que NAN rompe a Tensorflow\n",
    "\n",
    "  #Renombramos las columnas que tienen caracteres que TensorFlow no acepta como validos.\n",
    "  #Estos particularmente son whitespace, coma y parentesis por ejemplo.\n",
    "  df.rename(columns={'ASP_(converted)':'ASP_converted','Pricing, Delivery_Terms_Quote_Appr':\n",
    "                    'Pricing_Delivery_Terms_Quote_Appr','Pricing, Delivery_Terms_Approved':\n",
    "                    'Pricing_Delivery_Terms_Approved','Source ':'Source'},inplace=True)\n",
    "\n",
    "  df = df[df['Stage'].isin(['Closed Won', 'Closed Lost'])]\n",
    "  df.loc[:, 'Stage'].replace({'Closed Won':1, 'Closed Lost':0}, inplace=True) #0 corresponde a que el caso fue Closed Lost, 1 a que fue Closed Won. Asi tenemos un problema de clasificacion binario que puede entender la red neuronal.\n",
    "\n",
    "  df.loc[:, 'Planned_Delivery_Start_Date'] = pd.to_datetime(df['Planned_Delivery_Start_Date'], 'coerce',\n",
    "                                                                  format='%m/%d/%Y')\n",
    "  df.loc[:, 'Planned_Delivery_End_Date'] = pd.to_datetime(df['Planned_Delivery_End_Date'], 'coerce',\n",
    "                                                                                      format='%m/%d/%Y')\n",
    "  df = df[df['Opportunity_ID'] != 9773] #Hardcodeo este filtrado porque el id 9773 tiene mal cargada la fecha de delivery end, dando una diferencia de 200 anios xd\"\n",
    "\n",
    "  #Pongo .loc porque pandas me jode con warnings que son falsos positivos de slice copy\"\n",
    "  #Gracias Pandas!\"\n",
    "\n",
    "  #Creamos una nueva columna (Feature Engineering) que contiene la longitud en dias \n",
    "  #estimada de la operacion. En el informe habiamos encontrado que aparentaba haber\n",
    "  #una relacion cuadratica de decrecimiento a medida que aumentaban los dias donde disminuia\n",
    "  #la chance de completar la operacion.\n",
    "  df['Delta_Time'] = df['Planned_Delivery_End_Date'] - df['Planned_Delivery_Start_Date']\n",
    "  df.loc[:, 'Delta_Time'] = df['Delta_Time'].dt.days\n",
    "  df['Delta_Time'] = df['Delta_Time'].replace({np.nan:10.0}) #Reemplazo con 10 porque los que no tienen fecha final ganan el 60%, y el analisis de los datos da que el 60% es maso a los 10 dias. Asi no jodo el resto de los datos\n",
    "  df['Delta_Time'] = df.groupby('Opportunity_ID')['Delta_Time'].transform('max')\n",
    "\n",
    "  #Pasamos todo a dolares\n",
    "  currency_conversion = {'AUD':0.707612, 'EUR':1.131064, 'GBP':1.318055, 'JPY':0.008987, 'USD':1.0}\n",
    "  df['Total_Taxable_Amount_Currency'] = df[['Total_Taxable_Amount_Currency']].replace(currency_conversion)\n",
    "  df['Total_Taxable_Amount'] = df['Total_Taxable_Amount_Currency'] * df['Total_Taxable_Amount']\n",
    "\n",
    "  #Modifico la columna Brand para que en vez de decir que marca es, solo diga\n",
    "  #si tiene o no marca. Es importante aclarar que verificamos que siempre que una oportunidad\n",
    "  #tiene un producto con marca entonces todos sus productos tienen marca. Esto se cumple\n",
    "  #tanto en el set de entrenamiento como en el de test, por lo tanto al hacer drop_duplicates\n",
    "  #no nos va a pasar nunca el caso donde nos pudieramos quedar con una entrada de producto\n",
    "  #sin marca mientras que algun otro producto si tuviera, ya que confirmamos que o todos tienen\n",
    "  #marca o ninguno tiene.\n",
    "  df.loc[df['Brand'] == 'None', 'Brand'] = 'No'\n",
    "  df.loc[df['Brand'] != 'No', 'Brand'] = 'Yes'\n",
    "\n",
    "  #Agrego una columna que indica si tiene o no numero de contrato\n",
    "  df.loc[:, 'Sales_Contract_No'][df['Sales_Contract_No'] != 'None'] = 'Yes'\n",
    "  df.loc[:, 'Sales_Contract_No'][df['Sales_Contract_No'] == 'None'] = 'No'\n",
    "  df.rename(columns={'Sales_Contract_No':'Has_Contract_Number'}, inplace=True)\n",
    "\n",
    "  #Agrego una columna que indique la cantidad de productos que tiene esa\n",
    "  #oportunidad\n",
    "  df['Product'] = 1\n",
    "  df['Product_Amount'] = df.groupby('Opportunity_ID')['Product'].transform(lambda x: x.sum())\n",
    "\n",
    "  #Agrego una columna que indica si el owner de la cuenta es el mismo que el de la oportunidad\n",
    "  #o no\n",
    "  df['Same_Owner'] = (df['Account_Owner'] == df['Opportunity_Owner'])\n",
    "  df['Same_Owner'] = df['Same_Owner'].replace({False:'No', True:'Yes'})\n",
    "\n",
    "  #Agrego una columna que indica si tiene o no fecha de expiracion\n",
    "  df['Quote_Expiry_Date'] = (df['Quote_Expiry_Date'] != 'NaT')\n",
    "  df.rename(columns={'Quote_Expiry_Date':'Has_Expiry_Date'}, inplace=True)\n",
    "  df['Has_Expiry_Date'] = df['Has_Expiry_Date'].replace({True:'Yes',False:'No'})\n",
    "\n",
    "  #Reemplazo las 4 columnas de aprobacion por solo 2 columnas que indiquen si tuvo la aprobacion\n",
    "  #de delivery y burocratica o no. Recalco que si nunca la necesito seria equivalente a si\n",
    "  #la necesito y la consiguio.\n",
    "  df['Delivery_Approved'] = df['Pricing_Delivery_Terms_Quote_Appr'] + df['Pricing_Delivery_Terms_Approved']\n",
    "  df['Delivery_Approved'] = df['Delivery_Approved'].replace({0:1, 1:0, 2:1})\n",
    "  df['Bureaucratic_Code_Approved'] = df['Bureaucratic_Code_0_Approval'] + df['Bureaucratic_Code_0_Approved']\n",
    "  df['Bureaucratic_Code_Approved'] = df['Bureaucratic_Code_Approved'].replace({0:1, 1:0, 2:1})\n",
    "  df['Approved'] = df['Delivery_Approved'] & df['Bureaucratic_Code_Approved']\n",
    "\n",
    "  #Cambio TRF por una columna que es el valor medio de los TRF de la oportunidad\n",
    "  df[\"TRF\"] = df.groupby(\"Opportunity_ID\")[\"TRF\"].transform(\"mean\")\n",
    "\n",
    "  def combineProducts(x):\n",
    "    products = \"\"\n",
    "    added = []\n",
    "    for product in x:\n",
    "      product = re.findall('\\d+', product)[0]\n",
    "      if added.count(product) == 0:\n",
    "        products += (product)\n",
    "        added.append(product)\n",
    "    return products\n",
    "\n",
    "  #Junto todos los productos en una sola entrada\n",
    "  df['Products'] = df.groupby('Opportunity_ID')['Product_Family'].transform(combineProducts)\n",
    "\n",
    "  #Pruebo volar duplicados, solo cambia el producto. Si el producto no importa\n",
    "  #entonces volar duplicados no deberia importar. Obviamente vuelo el producto en el que\n",
    "  #quede tambien.\n",
    "  df.drop_duplicates('Opportunity_Name',inplace=True)\n",
    "  df.drop(columns=['Product_Name','Product_Family','Opportunity_Name'],inplace=True)\n",
    "\n",
    "  #Borro columnas que tengan el mismo dato en todas las entradas, o inconsecuentes como el ID / Opportunity_ID\n",
    "  #Algunas columnas borradas son porque pienso que no tienen incidencia, ir viendo.\n",
    "  #TODO: Analizar si el Sales_Contract_No no es que importe el numero en si, sino si tiene\n",
    "  #o no tiene numero de contrato. Por ahora no lo meto como input.\n",
    "  #TODO: Ver el mismo tema con la columna 'Price', la mayoria tiene None u Other\n",
    "  #y solo unos pocos tienen precio numerico. Quiza importe que tenga precio o no tenga,\n",
    "  #o si no tiene precio quiza importe si es None u Other. Por ahora no lo pongo\n",
    "  #como input.\n",
    "  df.drop(columns=['Submitted_for_Approval', 'Last_Activity', 'ASP_(converted)_Currency', \n",
    "                  'Prod_Category_A', 'ID', 'Opportunity_ID', \n",
    "                   'Actual_Delivery_Date'],inplace=True)\n",
    "\n",
    "  #Drop columnas que quiza podamos usar pero por ahora no las uso\n",
    "  df.drop(columns=['Account_Created_Date','Opportunity_Created_Date',\n",
    "                  'Last_Modified_Date',\n",
    "                  'Planned_Delivery_Start_Date','Planned_Delivery_End_Date',\n",
    "                  'Month',\n",
    "                  'Delivery_Year',\n",
    "                  'Price','ASP','ASP_Currency','Total_Amount_Currency',\n",
    "                  'Total_Amount','Total_Taxable_Amount_Currency','Currency',\n",
    "                   'Product_Category_B','Last_Modified_By', 'Account_Owner',\n",
    "                   'Opportunity_Owner','Account_Name','Product_Type','Size',\n",
    "                   'Billing_Country', 'Pricing_Delivery_Terms_Quote_Appr',\n",
    "                   'Pricing_Delivery_Terms_Approved', 'Bureaucratic_Code_0_Approval',\n",
    "                   'Bureaucratic_Code_0_Approved',\n",
    "                   'Approved', 'Has_Contract_Number','Territory']\n",
    "                   ,inplace=True)\n",
    "  \n",
    "  #Definimos que tipo de feature es cada columna\n",
    "\n",
    "  #Debemos separar algunos de los registros para armar un set de test propio (no el de la catedra). De esta forma sabremos rapidamente\n",
    "  #si nuestro modelo esta dando resultados optimos o no sin necesidad de estar subiendo el TP a Kaggle constantemente.\n",
    "  #Sin embargo, no queremos usar tantos registros ya que estariamos disminuyendo el set de entrenamiento considerablemente.\n",
    "  #Podemos empezar reservando 2000 registros para el test de prueba y ver que onda. Pasariamos de tener 16 mil a 14 mil \n",
    "  #registros para el set de entrenamiento, no es una perdida importantisima creo en principio, asi que arrancamos con eso.\n",
    "\n",
    "  #Por otro lado, nuestro test de prueba deberia tener un 50 50 de Closed Won y Closed Lost, por lo que no podemos elegir asi nomas\n",
    "  #al azar.\n",
    "\n",
    "  return df"
   ]
  },
  {
   "cell_type": "code",
   "execution_count": 121,
   "metadata": {
    "scrolled": false
   },
   "outputs": [
    {
     "name": "stderr",
     "output_type": "stream",
     "text": [
      "/home/riedel/anaconda3/lib/python3.7/site-packages/pandas/core/generic.py:6746: SettingWithCopyWarning: \n",
      "A value is trying to be set on a copy of a slice from a DataFrame\n",
      "\n",
      "See the caveats in the documentation: https://pandas.pydata.org/pandas-docs/stable/user_guide/indexing.html#returning-a-view-versus-a-copy\n",
      "  self._update_inplace(new_data)\n",
      "/home/riedel/anaconda3/lib/python3.7/site-packages/pandas/core/indexing.py:965: SettingWithCopyWarning: \n",
      "A value is trying to be set on a copy of a slice from a DataFrame.\n",
      "Try using .loc[row_indexer,col_indexer] = value instead\n",
      "\n",
      "See the caveats in the documentation: https://pandas.pydata.org/pandas-docs/stable/user_guide/indexing.html#returning-a-view-versus-a-copy\n",
      "  self.obj[item] = s\n",
      "/home/riedel/anaconda3/lib/python3.7/site-packages/ipykernel_launcher.py:48: SettingWithCopyWarning: \n",
      "A value is trying to be set on a copy of a slice from a DataFrame\n",
      "\n",
      "See the caveats in the documentation: https://pandas.pydata.org/pandas-docs/stable/user_guide/indexing.html#returning-a-view-versus-a-copy\n",
      "/home/riedel/anaconda3/lib/python3.7/site-packages/ipykernel_launcher.py:49: SettingWithCopyWarning: \n",
      "A value is trying to be set on a copy of a slice from a DataFrame\n",
      "\n",
      "See the caveats in the documentation: https://pandas.pydata.org/pandas-docs/stable/user_guide/indexing.html#returning-a-view-versus-a-copy\n"
     ]
    }
   ],
   "source": [
    "csv = pd.read_csv(\"Train_TP2_Datos_2020-2C.csv\") \n",
    "df = preprocess_dataframe(csv).copy()"
   ]
  },
  {
   "cell_type": "code",
   "execution_count": 122,
   "metadata": {},
   "outputs": [],
   "source": [
    "#Setup para el Label Encoding\n",
    "\n",
    "le = preprocessing.LabelEncoder()\n",
    "categorical_columns = [\"Region\",\"Bureaucratic_Code\",\"Source\",\"Account_Type\",\n",
    "                       \"Opportunity_Type\",\"Quote_Type\",\"Delivery_Terms\",\"Brand\",\n",
    "                       \"Has_Expiry_Date\",\"Delivery_Quarter\",\"Same_Owner\"]\n",
    "\n",
    "no_enc_df = df.copy() #Creo este aux para mantener el encoding para las predicciones"
   ]
  },
  {
   "cell_type": "code",
   "execution_count": 123,
   "metadata": {
    "scrolled": true
   },
   "outputs": [
    {
     "name": "stdout",
     "output_type": "stream",
     "text": [
      "<class 'pandas.core.frame.DataFrame'>\n",
      "Int64Index: 9790 entries, 0 to 16946\n",
      "Data columns (total 21 columns):\n",
      " #   Column                      Non-Null Count  Dtype  \n",
      "---  ------                      --------------  -----  \n",
      " 0   Region                      9790 non-null   int64  \n",
      " 1   Bureaucratic_Code           9790 non-null   int64  \n",
      " 2   Source                      9790 non-null   int64  \n",
      " 3   Account_Type                9790 non-null   int64  \n",
      " 4   Opportunity_Type            9790 non-null   int64  \n",
      " 5   Quote_Type                  9790 non-null   int64  \n",
      " 6   Delivery_Terms              9790 non-null   int64  \n",
      " 7   Brand                       9790 non-null   int64  \n",
      " 8   Has_Expiry_Date             9790 non-null   int64  \n",
      " 9   ASP_converted               9790 non-null   float64\n",
      " 10  Delivery_Quarter            9790 non-null   int64  \n",
      " 11  TRF                         9790 non-null   float64\n",
      " 12  Total_Taxable_Amount        9790 non-null   float64\n",
      " 13  Stage                       9790 non-null   int64  \n",
      " 14  Delta_Time                  9790 non-null   float64\n",
      " 15  Product                     9790 non-null   int64  \n",
      " 16  Product_Amount              9790 non-null   int64  \n",
      " 17  Same_Owner                  9790 non-null   int64  \n",
      " 18  Delivery_Approved           9790 non-null   int64  \n",
      " 19  Bureaucratic_Code_Approved  9790 non-null   int64  \n",
      " 20  Products                    9790 non-null   object \n",
      "dtypes: float64(4), int64(16), object(1)\n",
      "memory usage: 1.6+ MB\n"
     ]
    }
   ],
   "source": [
    "#Le aplico la codificacion a las columnas categoricas\n",
    "\n",
    "for feature in categorical_columns:\n",
    "  le.fit(df[feature]) #Calcula los codigos de cada valor de la serie que recibe\n",
    "  df[feature] = le.transform(df[feature]) #Le asigno al df los valores codificados\n",
    "\n",
    "df.info(verbose=True)"
   ]
  },
  {
   "cell_type": "code",
   "execution_count": 124,
   "metadata": {},
   "outputs": [],
   "source": [
    "checkpoint = df.copy()"
   ]
  },
  {
   "cell_type": "markdown",
   "metadata": {},
   "source": [
    "## Me quedo con los binarios para usar Bernoulli"
   ]
  },
  {
   "cell_type": "code",
   "execution_count": 125,
   "metadata": {},
   "outputs": [],
   "source": [
    "#filtro y me quedo con las columnas binarias, y el target.\n",
    "binary = ['Quote_Type','Brand','Has_Expiry_Date', 'Same_Owner','Delivery_Approved','Bureaucratic_Code_Approved', 'Products' ,'Stage']\n",
    "df = df [binary ]"
   ]
  },
  {
   "cell_type": "code",
   "execution_count": 126,
   "metadata": {},
   "outputs": [],
   "source": [
    "X = df"
   ]
  },
  {
   "cell_type": "code",
   "execution_count": 127,
   "metadata": {},
   "outputs": [],
   "source": [
    "y = X['Stage'].copy()\n",
    "X.drop(columns=['Stage'],inplace=True)"
   ]
  },
  {
   "cell_type": "code",
   "execution_count": 128,
   "metadata": {},
   "outputs": [
    {
     "data": {
      "text/plain": [
       "0.6220374893148247"
      ]
     },
     "execution_count": 128,
     "metadata": {},
     "output_type": "execute_result"
    }
   ],
   "source": [
    "X_train, X_test, y_train, y_test = train_test_split(X, y, test_size=0.1, random_state=0)\n",
    "model = BernoulliNB()\n",
    "y_pred = model.fit(X_train, y_train).predict_proba(X_test)\n",
    "log_loss = metrics.log_loss(y_test, y_pred)\n",
    "log_loss"
   ]
  },
  {
   "cell_type": "code",
   "execution_count": 129,
   "metadata": {},
   "outputs": [],
   "source": [
    "### Ahora sin filtrar los binarios."
   ]
  },
  {
   "cell_type": "code",
   "execution_count": 130,
   "metadata": {
    "scrolled": false
   },
   "outputs": [],
   "source": [
    "X  =  checkpoint.copy()"
   ]
  },
  {
   "cell_type": "code",
   "execution_count": 131,
   "metadata": {},
   "outputs": [],
   "source": [
    "y = X['Stage'].copy()\n",
    "X.drop(columns=['Stage'],inplace=True)"
   ]
  },
  {
   "cell_type": "code",
   "execution_count": 132,
   "metadata": {
    "scrolled": true
   },
   "outputs": [
    {
     "data": {
      "text/plain": [
       "0.5160028983750453"
      ]
     },
     "execution_count": 132,
     "metadata": {},
     "output_type": "execute_result"
    }
   ],
   "source": [
    "X_train, X_test, y_train, y_test = train_test_split(X, y, test_size=0.1, random_state=0)\n",
    "model = BernoulliNB()\n",
    "y_pred = model.fit(X_train, y_train).predict_proba(X_test)\n",
    "log_loss = metrics.log_loss(y_test, y_pred)\n",
    "log_loss"
   ]
  },
  {
   "cell_type": "code",
   "execution_count": 133,
   "metadata": {},
   "outputs": [],
   "source": [
    "### Es un score Potable. summiteo a kaggle."
   ]
  },
  {
   "cell_type": "code",
   "execution_count": 134,
   "metadata": {},
   "outputs": [],
   "source": [
    "X = checkpoint\n",
    "y = X['Stage'].copy()\n",
    "X.drop(columns=['Stage'],inplace=True)"
   ]
  },
  {
   "cell_type": "code",
   "execution_count": 135,
   "metadata": {},
   "outputs": [
    {
     "data": {
      "text/plain": [
       "BernoulliNB(alpha=1.0, binarize=0.0, class_prior=None, fit_prior=True)"
      ]
     },
     "execution_count": 135,
     "metadata": {},
     "output_type": "execute_result"
    }
   ],
   "source": [
    "model = BernoulliNB()\n",
    "model.fit(X, y) # Entrenamos el modelo con el 100%"
   ]
  },
  {
   "cell_type": "code",
   "execution_count": 136,
   "metadata": {},
   "outputs": [
    {
     "name": "stderr",
     "output_type": "stream",
     "text": [
      "/home/riedel/anaconda3/lib/python3.7/site-packages/ipykernel_launcher.py:4: SettingWithCopyWarning: \n",
      "A value is trying to be set on a copy of a slice from a DataFrame\n",
      "\n",
      "See the caveats in the documentation: https://pandas.pydata.org/pandas-docs/stable/user_guide/indexing.html#returning-a-view-versus-a-copy\n",
      "  after removing the cwd from sys.path.\n",
      "/home/riedel/anaconda3/lib/python3.7/site-packages/ipykernel_launcher.py:48: SettingWithCopyWarning: \n",
      "A value is trying to be set on a copy of a slice from a DataFrame\n",
      "\n",
      "See the caveats in the documentation: https://pandas.pydata.org/pandas-docs/stable/user_guide/indexing.html#returning-a-view-versus-a-copy\n",
      "/home/riedel/anaconda3/lib/python3.7/site-packages/ipykernel_launcher.py:49: SettingWithCopyWarning: \n",
      "A value is trying to be set on a copy of a slice from a DataFrame\n",
      "\n",
      "See the caveats in the documentation: https://pandas.pydata.org/pandas-docs/stable/user_guide/indexing.html#returning-a-view-versus-a-copy\n"
     ]
    },
    {
     "data": {
      "text/html": [
       "<div>\n",
       "<style scoped>\n",
       "    .dataframe tbody tr th:only-of-type {\n",
       "        vertical-align: middle;\n",
       "    }\n",
       "\n",
       "    .dataframe tbody tr th {\n",
       "        vertical-align: top;\n",
       "    }\n",
       "\n",
       "    .dataframe thead th {\n",
       "        text-align: right;\n",
       "    }\n",
       "</style>\n",
       "<table border=\"1\" class=\"dataframe\">\n",
       "  <thead>\n",
       "    <tr style=\"text-align: right;\">\n",
       "      <th></th>\n",
       "      <th>Region</th>\n",
       "      <th>Bureaucratic_Code</th>\n",
       "      <th>Source</th>\n",
       "      <th>Account_Type</th>\n",
       "      <th>Opportunity_Type</th>\n",
       "      <th>Quote_Type</th>\n",
       "      <th>Delivery_Terms</th>\n",
       "      <th>Brand</th>\n",
       "      <th>Has_Expiry_Date</th>\n",
       "      <th>ASP_converted</th>\n",
       "      <th>...</th>\n",
       "      <th>TRF</th>\n",
       "      <th>Total_Taxable_Amount</th>\n",
       "      <th>Stage</th>\n",
       "      <th>Delta_Time</th>\n",
       "      <th>Product</th>\n",
       "      <th>Product_Amount</th>\n",
       "      <th>Same_Owner</th>\n",
       "      <th>Delivery_Approved</th>\n",
       "      <th>Bureaucratic_Code_Approved</th>\n",
       "      <th>Products</th>\n",
       "    </tr>\n",
       "  </thead>\n",
       "  <tbody>\n",
       "    <tr>\n",
       "      <th>1208</th>\n",
       "      <td>3</td>\n",
       "      <td>4</td>\n",
       "      <td>0</td>\n",
       "      <td>2</td>\n",
       "      <td>1</td>\n",
       "      <td>1</td>\n",
       "      <td>5</td>\n",
       "      <td>0</td>\n",
       "      <td>0</td>\n",
       "      <td>0.36861</td>\n",
       "      <td>...</td>\n",
       "      <td>1.0</td>\n",
       "      <td>502957.455000</td>\n",
       "      <td>1</td>\n",
       "      <td>0.0</td>\n",
       "      <td>1</td>\n",
       "      <td>1</td>\n",
       "      <td>1</td>\n",
       "      <td>1</td>\n",
       "      <td>1</td>\n",
       "      <td>172</td>\n",
       "    </tr>\n",
       "    <tr>\n",
       "      <th>1918</th>\n",
       "      <td>3</td>\n",
       "      <td>4</td>\n",
       "      <td>6</td>\n",
       "      <td>0</td>\n",
       "      <td>1</td>\n",
       "      <td>1</td>\n",
       "      <td>4</td>\n",
       "      <td>0</td>\n",
       "      <td>1</td>\n",
       "      <td>0.35962</td>\n",
       "      <td>...</td>\n",
       "      <td>0.0</td>\n",
       "      <td>24185.814400</td>\n",
       "      <td>1</td>\n",
       "      <td>0.0</td>\n",
       "      <td>1</td>\n",
       "      <td>1</td>\n",
       "      <td>1</td>\n",
       "      <td>1</td>\n",
       "      <td>1</td>\n",
       "      <td>132</td>\n",
       "    </tr>\n",
       "    <tr>\n",
       "      <th>1949</th>\n",
       "      <td>0</td>\n",
       "      <td>4</td>\n",
       "      <td>12</td>\n",
       "      <td>2</td>\n",
       "      <td>1</td>\n",
       "      <td>1</td>\n",
       "      <td>1</td>\n",
       "      <td>0</td>\n",
       "      <td>0</td>\n",
       "      <td>0.40000</td>\n",
       "      <td>...</td>\n",
       "      <td>0.0</td>\n",
       "      <td>198979.200000</td>\n",
       "      <td>1</td>\n",
       "      <td>90.0</td>\n",
       "      <td>1</td>\n",
       "      <td>2</td>\n",
       "      <td>1</td>\n",
       "      <td>1</td>\n",
       "      <td>1</td>\n",
       "      <td>162167</td>\n",
       "    </tr>\n",
       "    <tr>\n",
       "      <th>532</th>\n",
       "      <td>2</td>\n",
       "      <td>4</td>\n",
       "      <td>0</td>\n",
       "      <td>0</td>\n",
       "      <td>1</td>\n",
       "      <td>1</td>\n",
       "      <td>2</td>\n",
       "      <td>0</td>\n",
       "      <td>1</td>\n",
       "      <td>0.29974</td>\n",
       "      <td>...</td>\n",
       "      <td>0.0</td>\n",
       "      <td>67799.369352</td>\n",
       "      <td>1</td>\n",
       "      <td>0.0</td>\n",
       "      <td>1</td>\n",
       "      <td>1</td>\n",
       "      <td>1</td>\n",
       "      <td>1</td>\n",
       "      <td>1</td>\n",
       "      <td>133</td>\n",
       "    </tr>\n",
       "    <tr>\n",
       "      <th>57</th>\n",
       "      <td>0</td>\n",
       "      <td>4</td>\n",
       "      <td>12</td>\n",
       "      <td>0</td>\n",
       "      <td>23</td>\n",
       "      <td>1</td>\n",
       "      <td>1</td>\n",
       "      <td>0</td>\n",
       "      <td>1</td>\n",
       "      <td>0.27500</td>\n",
       "      <td>...</td>\n",
       "      <td>1.0</td>\n",
       "      <td>139755.000000</td>\n",
       "      <td>1</td>\n",
       "      <td>11.0</td>\n",
       "      <td>1</td>\n",
       "      <td>1</td>\n",
       "      <td>1</td>\n",
       "      <td>1</td>\n",
       "      <td>1</td>\n",
       "      <td>213</td>\n",
       "    </tr>\n",
       "  </tbody>\n",
       "</table>\n",
       "<p>5 rows × 21 columns</p>\n",
       "</div>"
      ],
      "text/plain": [
       "      Region  Bureaucratic_Code  Source  Account_Type  Opportunity_Type  \\\n",
       "1208       3                  4       0             2                 1   \n",
       "1918       3                  4       6             0                 1   \n",
       "1949       0                  4      12             2                 1   \n",
       "532        2                  4       0             0                 1   \n",
       "57         0                  4      12             0                23   \n",
       "\n",
       "      Quote_Type  Delivery_Terms  Brand  Has_Expiry_Date  ASP_converted  ...  \\\n",
       "1208           1               5      0                0        0.36861  ...   \n",
       "1918           1               4      0                1        0.35962  ...   \n",
       "1949           1               1      0                0        0.40000  ...   \n",
       "532            1               2      0                1        0.29974  ...   \n",
       "57             1               1      0                1        0.27500  ...   \n",
       "\n",
       "      TRF  Total_Taxable_Amount  Stage  Delta_Time  Product  Product_Amount  \\\n",
       "1208  1.0         502957.455000      1         0.0        1               1   \n",
       "1918  0.0          24185.814400      1         0.0        1               1   \n",
       "1949  0.0         198979.200000      1        90.0        1               2   \n",
       "532   0.0          67799.369352      1         0.0        1               1   \n",
       "57    1.0         139755.000000      1        11.0        1               1   \n",
       "\n",
       "      Same_Owner  Delivery_Approved  Bureaucratic_Code_Approved  Products  \n",
       "1208           1                  1                           1       172  \n",
       "1918           1                  1                           1       132  \n",
       "1949           1                  1                           1    162167  \n",
       "532            1                  1                           1       133  \n",
       "57             1                  1                           1       213  \n",
       "\n",
       "[5 rows x 21 columns]"
      ]
     },
     "execution_count": 136,
     "metadata": {},
     "output_type": "execute_result"
    }
   ],
   "source": [
    "frio_test_df = pd.read_csv('Test_TP2_Datos_2020-2C.csv')\n",
    "frio_test_df['Stage'] = 'Closed Won'  #por el preproces de data frame. \n",
    "aux_df = frio_test_df[['Opportunity_ID']] #Esta columna la vuela el preprocesado sino\n",
    "aux_df.drop_duplicates(subset='Opportunity_ID', inplace=True)\n",
    "\n",
    "frio_test_df = preprocess_dataframe(frio_test_df)\n",
    "\n",
    "for feature in categorical_columns:\n",
    "  le.fit(no_enc_df[feature])\n",
    "  frio_test_df[feature] = le.transform(frio_test_df[feature])\n",
    "frio_test_df.sample(5)"
   ]
  },
  {
   "cell_type": "code",
   "execution_count": 137,
   "metadata": {},
   "outputs": [
    {
     "data": {
      "text/html": [
       "<div>\n",
       "<style scoped>\n",
       "    .dataframe tbody tr th:only-of-type {\n",
       "        vertical-align: middle;\n",
       "    }\n",
       "\n",
       "    .dataframe tbody tr th {\n",
       "        vertical-align: top;\n",
       "    }\n",
       "\n",
       "    .dataframe thead th {\n",
       "        text-align: right;\n",
       "    }\n",
       "</style>\n",
       "<table border=\"1\" class=\"dataframe\">\n",
       "  <thead>\n",
       "    <tr style=\"text-align: right;\">\n",
       "      <th></th>\n",
       "      <th>Opportunity_ID</th>\n",
       "      <th>Target</th>\n",
       "    </tr>\n",
       "  </thead>\n",
       "  <tbody>\n",
       "    <tr>\n",
       "      <th>2149</th>\n",
       "      <td>12133</td>\n",
       "      <td>0.247770</td>\n",
       "    </tr>\n",
       "    <tr>\n",
       "      <th>2211</th>\n",
       "      <td>12177</td>\n",
       "      <td>0.913274</td>\n",
       "    </tr>\n",
       "    <tr>\n",
       "      <th>61</th>\n",
       "      <td>10717</td>\n",
       "      <td>0.292489</td>\n",
       "    </tr>\n",
       "  </tbody>\n",
       "</table>\n",
       "</div>"
      ],
      "text/plain": [
       "      Opportunity_ID    Target\n",
       "2149           12133  0.247770\n",
       "2211           12177  0.913274\n",
       "61             10717  0.292489"
      ]
     },
     "execution_count": 137,
     "metadata": {},
     "output_type": "execute_result"
    }
   ],
   "source": [
    "target = frio_test_df[\"Stage\"].copy()\n",
    "frio_test_df.drop(columns=[\"Stage\"],inplace=True)\n",
    "\n",
    "features = frio_test_df.values\n",
    "\n",
    "predictions = model.predict_proba(features)\n",
    "\n",
    "aux_df['Target'] = predictions[:,1]\n",
    "\n",
    "aux_df.to_csv('OutPut/NBBernoulli.csv', index=False)\n",
    "aux_df.sample(3)"
   ]
  }
 ],
 "metadata": {
  "kernelspec": {
   "display_name": "Python 3",
   "language": "python",
   "name": "python3"
  },
  "language_info": {
   "codemirror_mode": {
    "name": "ipython",
    "version": 3
   },
   "file_extension": ".py",
   "mimetype": "text/x-python",
   "name": "python",
   "nbconvert_exporter": "python",
   "pygments_lexer": "ipython3",
   "version": "3.7.6"
  }
 },
 "nbformat": 4,
 "nbformat_minor": 4
}
